{
 "cells": [
  {
   "cell_type": "code",
   "execution_count": 1,
   "metadata": {},
   "outputs": [
    {
     "name": "stdout",
     "output_type": "stream",
     "text": [
      "Requirement already satisfied: mypy in c:\\users\\taaaayaauaaaaaaaaaaa\\miniconda3\\envs\\myenv3_12\\lib\\site-packages (1.6.0)\n",
      "Requirement already satisfied: typing-extensions>=4.1.0 in c:\\users\\taaaayaauaaaaaaaaaaa\\miniconda3\\envs\\myenv3_12\\lib\\site-packages (from mypy) (4.8.0)\n",
      "Requirement already satisfied: mypy-extensions>=1.0.0 in c:\\users\\taaaayaauaaaaaaaaaaa\\miniconda3\\envs\\myenv3_12\\lib\\site-packages (from mypy) (1.0.0)\n"
     ]
    }
   ],
   "source": [
    "!pip install mypy"
   ]
  },
  {
   "cell_type": "code",
   "execution_count": 8,
   "metadata": {},
   "outputs": [
    {
     "name": "stdout",
     "output_type": "stream",
     "text": [
      "{'name': 'aryaan', 'age': True, 'program': 'BSCS', 'fjkds': 234}\n",
      "{'age': True, 'fjkds': 234, 'name': 'aryaan', 'program': 'BSCS'}\n"
     ]
    }
   ],
   "source": [
    "import pprint\n",
    "from typing import Dict\n",
    "\n",
    "student : Dict[str,str] = {\n",
    "                        \"fname\":\"Muhammad Aslam\",\n",
    "                        \"name\":\"Muhammad Qasim\",\n",
    "                        \"education\": \"MSDS\"\n",
    "                        }\n",
    "\n",
    "print(student)\n",
    "pprint.pprint(student) # sort the keys of dictionary"
   ]
  },
  {
   "cell_type": "markdown",
   "metadata": {},
   "source": [
    "# Dictionary Methods"
   ]
  },
  {
   "cell_type": "code",
   "execution_count": 1,
   "metadata": {},
   "outputs": [
    {
     "data": {
      "text/plain": [
       "['clear',\n",
       " 'copy',\n",
       " 'fromkeys',\n",
       " 'get',\n",
       " 'items',\n",
       " 'keys',\n",
       " 'pop',\n",
       " 'popitem',\n",
       " 'setdefault',\n",
       " 'update',\n",
       " 'values']"
      ]
     },
     "execution_count": 1,
     "metadata": {},
     "output_type": "execute_result"
    }
   ],
   "source": [
    "[x for x in dir(dict) if \"__\" not in x]"
   ]
  },
  {
   "cell_type": "markdown",
   "metadata": {},
   "source": [
    "# Set Methods"
   ]
  },
  {
   "cell_type": "code",
   "execution_count": 3,
   "metadata": {},
   "outputs": [
    {
     "data": {
      "text/plain": [
       "['add',\n",
       " 'clear',\n",
       " 'copy',\n",
       " 'difference',\n",
       " 'difference_update',\n",
       " 'discard',\n",
       " 'intersection',\n",
       " 'intersection_update',\n",
       " 'isdisjoint',\n",
       " 'issubset',\n",
       " 'issuperset',\n",
       " 'pop',\n",
       " 'remove',\n",
       " 'symmetric_difference',\n",
       " 'symmetric_difference_update',\n",
       " 'union',\n",
       " 'update']"
      ]
     },
     "execution_count": 3,
     "metadata": {},
     "output_type": "execute_result"
    }
   ],
   "source": [
    "[x for x in dir(set) if \"__\" not in x]"
   ]
  },
  {
   "cell_type": "code",
   "execution_count": 5,
   "metadata": {},
   "outputs": [
    {
     "name": "stdout",
     "output_type": "stream",
     "text": [
      "{1, 2, 3, 4, 5}\n"
     ]
    }
   ],
   "source": [
    "# Set refers to unique element\n",
    "data = {1,2,4,1,3,5,4,1,3,2,5}\n",
    "print(data)"
   ]
  },
  {
   "cell_type": "code",
   "execution_count": 6,
   "metadata": {},
   "outputs": [
    {
     "name": "stdout",
     "output_type": "stream",
     "text": [
      "{'name': 'aryaan', 'age': True, 'program': 'BSCS', 'fjkds': 234}\n",
      "{'fjdk': 'fjdkls', 'fjdksl': 23, 0: 'zeroIndex'}\n",
      "zeroIndex\n"
     ]
    }
   ],
   "source": [
    "from typing import Union,Dict\n",
    "student : Dict[str,str | bool | int] = {\n",
    "    'name': 'aryaan',\n",
    "    'age': True,\n",
    "    'program': 'BSCS',\n",
    "    'fjkds': 234\n",
    "}\n",
    "\n",
    "print(student)\n",
    "\n",
    "Key = Union[int,str]\n",
    "Value = Union[int,str,bool]\n",
    "\n",
    "teacher : Dict[Key,Value] = {\n",
    "    'fjdk': 'fjdkls',\n",
    "    'fjdksl': 23,\n",
    "    0: 'zeroIndex'\n",
    "}\n",
    "\n",
    "print(teacher)\n",
    "print(teacher[0]) # Not printing index printing value of key 0"
   ]
  },
  {
   "cell_type": "markdown",
   "metadata": {},
   "source": [
    "### for-in loop with python"
   ]
  },
  {
   "cell_type": "code",
   "execution_count": 13,
   "metadata": {},
   "outputs": [
    {
     "name": "stdout",
     "output_type": "stream",
     "text": [
      "dict_keys(['talha', 'bob', 'alice', 'maria', 'aryaan', 'hamza'])\n",
      "dict_values(['python', 'javascript', 'typescript', 'C', 'C++', 'Nextjs'])\n",
      "\n",
      "Printing keys separately\n",
      "talha\n",
      "bob\n",
      "alice\n",
      "maria\n",
      "aryaan\n",
      "hamza\n",
      "\n",
      "Printing values separately\n",
      "python\n",
      "javascript\n",
      "typescript\n",
      "C\n",
      "C++\n",
      "Nextjs\n",
      "\n",
      "By-default give keys\n",
      "talha\n",
      "bob\n",
      "alice\n",
      "maria\n",
      "aryaan\n",
      "hamza\n"
     ]
    }
   ],
   "source": [
    "favourite_language : dict[str,str] = {\n",
    "    'talha': 'python',\n",
    "    'bob': 'javascript',\n",
    "    'alice': 'typescript',\n",
    "    'maria': 'C',\n",
    "    'aryaan': 'C++',\n",
    "    'hamza': 'Nextjs'\n",
    "}\n",
    "\n",
    "print(favourite_language.keys()) # Return `list` of keys\n",
    "print(favourite_language.values()) # Return `list` of values\n",
    "\n",
    "print()\n",
    "print(\"Printing keys separately\")\n",
    "for x in favourite_language.keys():\n",
    "    print(x)\n",
    "\n",
    "print()\n",
    "print('Printing values separately')\n",
    "for x in favourite_language.values():\n",
    "    print(x)\n",
    "\n",
    "print()\n",
    "print('By-default give keys')\n",
    "for x in favourite_language:\n",
    "    print(x)"
   ]
  },
  {
   "cell_type": "code",
   "execution_count": 23,
   "metadata": {},
   "outputs": [
    {
     "name": "stdout",
     "output_type": "stream",
     "text": [
      "talha present\n",
      "js not present\n",
      "js prsent\n"
     ]
    }
   ],
   "source": [
    "print('talha present') if \"talha\" in favourite_language else print(\"not present\")\n",
    "\n",
    "print('js present') if \"javascript\" in favourite_language else print(\"js not present\")\n",
    "\n",
    "print('js prsent') if \"javascript\" in favourite_language.values() else print(\"js not present\")"
   ]
  },
  {
   "cell_type": "code",
   "execution_count": 28,
   "metadata": {},
   "outputs": [
    {
     "name": "stdout",
     "output_type": "stream",
     "text": [
      "[{'color': 'green', 'points': 5, 'speed': 'slow'},\n",
      " {'color': 'green', 'points': 5, 'speed': 'slow'},\n",
      " {'color': 'green', 'points': 5, 'speed': 'slow'},\n",
      " {'color': 'green', 'points': 5, 'speed': 'slow'},\n",
      " {'color': 'green', 'points': 5, 'speed': 'slow'},\n",
      " {'color': 'green', 'points': 5, 'speed': 'slow'},\n",
      " {'color': 'green', 'points': 5, 'speed': 'slow'},\n",
      " {'color': 'green', 'points': 5, 'speed': 'slow'},\n",
      " {'color': 'green', 'points': 5, 'speed': 'slow'},\n",
      " {'color': 'green', 'points': 5, 'speed': 'slow'},\n",
      " {'color': 'green', 'points': 5, 'speed': 'slow'},\n",
      " {'color': 'green', 'points': 5, 'speed': 'slow'},\n",
      " {'color': 'green', 'points': 5, 'speed': 'slow'},\n",
      " {'color': 'green', 'points': 5, 'speed': 'slow'},\n",
      " {'color': 'green', 'points': 5, 'speed': 'slow'},\n",
      " {'color': 'green', 'points': 5, 'speed': 'slow'},\n",
      " {'color': 'green', 'points': 5, 'speed': 'slow'},\n",
      " {'color': 'green', 'points': 5, 'speed': 'slow'},\n",
      " {'color': 'green', 'points': 5, 'speed': 'slow'},\n",
      " {'color': 'green', 'points': 5, 'speed': 'slow'},\n",
      " {'color': 'green', 'points': 5, 'speed': 'slow'},\n",
      " {'color': 'green', 'points': 5, 'speed': 'slow'},\n",
      " {'color': 'green', 'points': 5, 'speed': 'slow'},\n",
      " {'color': 'green', 'points': 5, 'speed': 'slow'},\n",
      " {'color': 'green', 'points': 5, 'speed': 'slow'},\n",
      " {'color': 'green', 'points': 5, 'speed': 'slow'},\n",
      " {'color': 'green', 'points': 5, 'speed': 'slow'},\n",
      " {'color': 'green', 'points': 5, 'speed': 'slow'},\n",
      " {'color': 'green', 'points': 5, 'speed': 'slow'},\n",
      " {'color': 'green', 'points': 5, 'speed': 'slow'}]\n"
     ]
    }
   ],
   "source": [
    "import pprint\n",
    "aliens : list[dict[str,str]] = []\n",
    "\n",
    "for i in range(30):\n",
    "    new_alien = {'color': 'green', 'points': 5, 'speed': 'slow'}\n",
    "    aliens.append(new_alien)\n",
    "\n",
    "pprint.pprint(aliens)"
   ]
  },
  {
   "cell_type": "code",
   "execution_count": 30,
   "metadata": {},
   "outputs": [
    {
     "name": "stdout",
     "output_type": "stream",
     "text": [
      "<class 'dict'>\n"
     ]
    }
   ],
   "source": [
    "favourite_language : dict[str,str] = {\n",
    "    'talha': 'python',\n",
    "    'bob': 'javascript',\n",
    "    'alice': 'typescript',\n",
    "    'maria': 'C',\n",
    "    'aryaan': 'C++',\n",
    "    'hamza': 'Nextjs'\n",
    "}\n",
    "\n",
    "print(type(favourite_language))"
   ]
  },
  {
   "cell_type": "markdown",
   "metadata": {},
   "source": [
    "# Dictionary to JSON format"
   ]
  },
  {
   "cell_type": "code",
   "execution_count": 37,
   "metadata": {},
   "outputs": [
    {
     "name": "stdout",
     "output_type": "stream",
     "text": [
      "<class 'dict'>\n",
      "<class 'str'>\n",
      "<class 'dict'>\n"
     ]
    }
   ],
   "source": [
    "import json\n",
    "bio = {\n",
    "    'name': 'Talha',\n",
    "    'age': 20,\n",
    "    'languages': 'BSCS'\n",
    "}\n",
    "\n",
    "print(type(bio))\n",
    "\n",
    "json_data = json.dumps(bio)\n",
    "print(type(json_data))\n",
    "parsed_data = json.loads(json_data)\n",
    "print(type(parsed_data))\n",
    "\n",
    "with open(\"data.json\",'w') as json_file:\n",
    "    json.dump(json_data,json_file)\n",
    "\n",
    "\n"
   ]
  }
 ],
 "metadata": {
  "kernelspec": {
   "display_name": "myenv3_12",
   "language": "python",
   "name": "python3"
  },
  "language_info": {
   "codemirror_mode": {
    "name": "ipython",
    "version": 3
   },
   "file_extension": ".py",
   "mimetype": "text/x-python",
   "name": "python",
   "nbconvert_exporter": "python",
   "pygments_lexer": "ipython3",
   "version": "3.12.0"
  }
 },
 "nbformat": 4,
 "nbformat_minor": 2
}
