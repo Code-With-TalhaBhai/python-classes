{
 "cells": [
  {
   "cell_type": "markdown",
   "metadata": {},
   "source": [
    "### 1. Encapsulation\n",
    "Encapsulation: The bundling of data with the methods that operate on that data. It restricts direct access to some of an object's components and can prevent the accidental modification of data.\n",
    "\n",
    "### 2. Abstraction\n",
    "Abstraction: The concept of hiding the complex reality while exposing only the necessary parts. It helps to reduce programming complexity and effort.\n",
    "\n",
    "### 3. Inheritance\n",
    "Inheritance: A mechanism wherein a new class inherits properties and behavior (methods) from another class. This helps to create a new class based on an existing class.\n",
    "\n",
    "### 4. Polymorphism\n",
    "Polymorphism: The ability of different classes to respond to the same message (method call) in different ways. This allows for code to work with objects of various classes as if they were objects of a common superclass.\n",
    "\n",
    " "
   ]
  },
  {
   "cell_type": "code",
   "execution_count": 1,
   "metadata": {},
   "outputs": [
    {
     "name": "stdout",
     "output_type": "stream",
     "text": [
      "5\n",
      "767.773\n",
      "TALHABHAI\n"
     ]
    }
   ],
   "source": [
    "# Method Overloading\n",
    "\n",
    "from typing import overload,Union\n",
    "class Adder:\n",
    "    @overload\n",
    "    def add(self,x:int,y:int)->int:\n",
    "        ...\n",
    "    @overload\n",
    "    def add(self,x:float,y:float)->float:\n",
    "        ...\n",
    "    @overload\n",
    "    def add(self,x:str,y:str)->str:\n",
    "        ...\n",
    "\n",
    "\n",
    "# The isinstance() function checks if the object (first argument) is an instance\n",
    "#  or subclass of classinfo class (second argument).\n",
    "\n",
    "    def add(self,x,y):\n",
    "        if isinstance(x,int) and (y,int):\n",
    "            return x + y\n",
    "        if isinstance(x,float) and (y,float):\n",
    "            return x + y\n",
    "        if isinstance(x,str) and (y,str):\n",
    "            return x + y\n",
    "        else:\n",
    "            raise TypeError('Invalid Argument Types')\n",
    "\n",
    "adder = Adder()\n",
    "result1 = adder.add(2,3)\n",
    "result2 = adder.add(235.25,532.523)\n",
    "result3 = adder.add('TALHA','BHAI')\n",
    "\n",
    "print(result1)\n",
    "print(result2)\n",
    "print(result3)\n",
    "    "
   ]
  },
  {
   "cell_type": "markdown",
   "metadata": {},
   "source": [
    "## Multiple Inheritance"
   ]
  },
  {
   "cell_type": "code",
   "execution_count": 20,
   "metadata": {},
   "outputs": [
    {
     "name": "stdout",
     "output_type": "stream",
     "text": [
      "My name is Talha\n",
      "My Father name is Khalid\n",
      "My Mother name is Sajida\n",
      "My Father age is 23\n",
      "My Mother weight is 43\n",
      "Father is speaking\n"
     ]
    },
    {
     "data": {
      "text/plain": [
       "['age', 'coding', 'fname', 'm_name', 'name', 'speaking', 'weight']"
      ]
     },
     "execution_count": 20,
     "metadata": {},
     "output_type": "execute_result"
    }
   ],
   "source": [
    "class Father:\n",
    "    def __init__(self,fname,age) -> None:\n",
    "        self.fname = fname\n",
    "        self.age = age\n",
    "\n",
    "    def speaking(self):\n",
    "        print('Father is speaking')\n",
    "\n",
    "class Mother:\n",
    "    def __init__(self,m_name,weight) -> None:\n",
    "        self.m_name = m_name\n",
    "        self.weight = weight\n",
    "\n",
    "    def speaking(self):\n",
    "        print('Mother is speaking')\n",
    "\n",
    "\n",
    "class Son(Father,Mother):\n",
    "    def __init__(self,name,fname,weight):\n",
    "        self.name = name\n",
    "        Father.__init__(self,fname,23)\n",
    "        Mother.__init__(self,'Sajida',weight)\n",
    "        # print('Son constructor working')\n",
    "        print(f'My name is {name}')\n",
    "        print(f'My Father name is {self.fname}')\n",
    "        print(f'My Mother name is {self.m_name}')\n",
    "        print(f'My Father age is {self.age}')\n",
    "        print(f'My Mother weight is {self.weight}')\n",
    "\n",
    "    def coding(self):\n",
    "        print('I am coding')\n",
    "\n",
    "    \n",
    "\n",
    "\n",
    "son = Son('Talha','Khalid',43)\n",
    "son.speaking()\n",
    "\n",
    "[i for i in dir(son) if \"__\" not in i]"
   ]
  },
  {
   "cell_type": "markdown",
   "metadata": {},
   "source": [
    "### Overridding"
   ]
  },
  {
   "cell_type": "code",
   "execution_count": 21,
   "metadata": {},
   "outputs": [
    {
     "name": "stdout",
     "output_type": "stream",
     "text": [
      "Bird is eating bread\n",
      "Animal is eating grass\n"
     ]
    }
   ],
   "source": [
    "class Animal():\n",
    "    def eating(self,food : str )->None: #same method \n",
    "        print(f\"Animal is eating {food}\")\n",
    "\n",
    "\n",
    "class Bird(Animal):\n",
    "    def eating(self, food: str) -> None:\n",
    "        print(f\"Bird is eating {food}\")\n",
    "\n",
    "\n",
    "bird : Bird = Bird()\n",
    "bird.eating(\"bread\")\n",
    "\n",
    "animal : Animal = Animal()\n",
    "animal.eating(\"grass\")"
   ]
  },
  {
   "cell_type": "markdown",
   "metadata": {},
   "source": [
    "### Static Methods and Static Variables(Class Variables)\n",
    "\n",
    "`Static methods and variables can be used without initializing(instantiating) the object`"
   ]
  },
  {
   "cell_type": "code",
   "execution_count": 23,
   "metadata": {},
   "outputs": [
    {
     "name": "stdout",
     "output_type": "stream",
     "text": [
      "989\n",
      "256\n",
      "0\n",
      "maximum\n"
     ]
    }
   ],
   "source": [
    "class MathOperations:\n",
    "    counter = 0\n",
    "    operations = 'maximum'\n",
    "\n",
    "    @staticmethod\n",
    "    def addition(a,b):\n",
    "        return a*b\n",
    "    \n",
    "    @staticmethod\n",
    "    def power(a):\n",
    "        return a**a\n",
    "    \n",
    "\n",
    "print(MathOperations.addition(23,43))\n",
    "print(MathOperations.power(4))\n",
    "\n",
    "print(MathOperations.counter)\n",
    "print(MathOperations.operations)"
   ]
  },
  {
   "cell_type": "markdown",
   "metadata": {},
   "source": [
    "## everything is an object\n",
    "https://www.codingninjas.com/studio/library/how-everything-in-python-is-an-object"
   ]
  },
  {
   "cell_type": "code",
   "execution_count": 1,
   "metadata": {},
   "outputs": [
    {
     "name": "stdout",
     "output_type": "stream",
     "text": [
      "Human is eating Biryani\n"
     ]
    }
   ],
   "source": [
    "class Human():\n",
    "    def eating(self, food : str)->None:\n",
    "        print(f\"Human is eating {food}\")\n",
    "\n",
    "    \n",
    "obj1 : Human = Human()\n",
    "obj1.eating(\"Biryani\")"
   ]
  },
  {
   "cell_type": "markdown",
   "metadata": {},
   "source": [
    "## Callable\n",
    "\n",
    "https://realpython.com/python-callable-instances/\n",
    "\n",
    "`The __call__() method allows an object to be called like a function.`"
   ]
  },
  {
   "cell_type": "code",
   "execution_count": 2,
   "metadata": {},
   "outputs": [
    {
     "name": "stdout",
     "output_type": "stream",
     "text": [
      "Human is eating Nihari!\n",
      "Human is eating Biryani\n"
     ]
    }
   ],
   "source": [
    "from typing import Any\n",
    "\n",
    "\n",
    "class Human1(object):\n",
    "    def eating(self, food : str)->None:\n",
    "        print(f\"Human is eating {food}\")\n",
    "\n",
    "    def __call__(self) -> None:\n",
    "        self.eating(\"Nihari!\")\n",
    "\n",
    "obj3 : Human1 = Human1()\n",
    "obj3()\n",
    "obj3.eating(\"Biryani\")"
   ]
  },
  {
   "cell_type": "code",
   "execution_count": 5,
   "metadata": {},
   "outputs": [
    {
     "data": {
      "text/plain": [
       "<__main__.Human1 at 0x227291c3e90>"
      ]
     },
     "execution_count": 5,
     "metadata": {},
     "output_type": "execute_result"
    }
   ],
   "source": [
    "Human1()"
   ]
  },
  {
   "cell_type": "markdown",
   "metadata": {},
   "source": [
    "### The `Object` Class\n",
    "\n",
    "Every class in Python 3 implicitly inherits from the `object` class, which is the base class for all classes."
   ]
  },
  {
   "cell_type": "code",
   "execution_count": 4,
   "metadata": {},
   "outputs": [
    {
     "name": "stdout",
     "output_type": "stream",
     "text": [
      "True\n",
      "True\n",
      "True\n",
      "True\n",
      "True\n",
      "True\n",
      "True\n",
      "True\n"
     ]
    }
   ],
   "source": [
    "class MyClass:\n",
    "    ...\n",
    "\n",
    "obj = MyClass()\n",
    "print(isinstance(MyClass,object))\n",
    "\n",
    "a = 8 #int\n",
    "b = '234' # str\n",
    "c = True # boolean\n",
    "d = 234.432 # float\n",
    "e = [1,3,5,6] # list\n",
    "f = (1,2,3,5) # tuple\n",
    "g = {a:'jfdks',b:24} # dictionary\n",
    "\n",
    "\n",
    "print(isinstance(a,object))\n",
    "print(isinstance(b,object))\n",
    "print(isinstance(c,object))\n",
    "print(isinstance(d,object))\n",
    "print(isinstance(e,object))\n",
    "print(isinstance(f,object))\n",
    "print(isinstance(g,object))"
   ]
  }
 ],
 "metadata": {
  "kernelspec": {
   "display_name": "myenv3_12",
   "language": "python",
   "name": "python3"
  },
  "language_info": {
   "codemirror_mode": {
    "name": "ipython",
    "version": 3
   },
   "file_extension": ".py",
   "mimetype": "text/x-python",
   "name": "python",
   "nbconvert_exporter": "python",
   "pygments_lexer": "ipython3",
   "version": "3.12.0"
  }
 },
 "nbformat": 4,
 "nbformat_minor": 2
}
