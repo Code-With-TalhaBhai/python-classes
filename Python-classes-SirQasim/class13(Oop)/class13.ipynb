{
 "cells": [
  {
   "cell_type": "code",
   "execution_count": 2,
   "metadata": {},
   "outputs": [
    {
     "name": "stdout",
     "output_type": "stream",
     "text": [
      "Constructor Initiated\n",
      "I am coding in python\n",
      "check function\n"
     ]
    }
   ],
   "source": [
    "class Basic:\n",
    "    def __init__(self)->None:\n",
    "        print('Constructor Initiated')\n",
    "\n",
    "    def coding(self,lang:str):\n",
    "        print(f\"I am coding in {lang}\")\n",
    "\n",
    "    def checking(self):\n",
    "        print(\"check function\")\n",
    "\n",
    "\n",
    "obj1 = Basic()\n",
    "obj1.coding('python')\n",
    "obj1.checking()"
   ]
  },
  {
   "cell_type": "code",
   "execution_count": 2,
   "metadata": {},
   "outputs": [
    {
     "data": {
      "text/plain": [
       "['checking', 'coding']"
      ]
     },
     "execution_count": 2,
     "metadata": {},
     "output_type": "execute_result"
    }
   ],
   "source": [
    "[x for x in dir(Basic) if \"__\" not in x]"
   ]
  },
  {
   "cell_type": "code",
   "execution_count": 3,
   "metadata": {},
   "outputs": [
    {
     "data": {
      "text/plain": [
       "['__class__',\n",
       " '__delattr__',\n",
       " '__dict__',\n",
       " '__dir__',\n",
       " '__doc__',\n",
       " '__eq__',\n",
       " '__format__',\n",
       " '__ge__',\n",
       " '__getattribute__',\n",
       " '__getstate__',\n",
       " '__gt__',\n",
       " '__hash__',\n",
       " '__init__',\n",
       " '__init_subclass__',\n",
       " '__le__',\n",
       " '__lt__',\n",
       " '__module__',\n",
       " '__ne__',\n",
       " '__new__',\n",
       " '__reduce__',\n",
       " '__reduce_ex__',\n",
       " '__repr__',\n",
       " '__setattr__',\n",
       " '__sizeof__',\n",
       " '__str__',\n",
       " '__subclasshook__',\n",
       " '__weakref__',\n",
       " 'checking',\n",
       " 'coding']"
      ]
     },
     "execution_count": 3,
     "metadata": {},
     "output_type": "execute_result"
    }
   ],
   "source": [
    "dir(Basic)"
   ]
  },
  {
   "cell_type": "markdown",
   "metadata": {},
   "source": [
    "## Inheritance"
   ]
  },
  {
   "cell_type": "code",
   "execution_count": 12,
   "metadata": {},
   "outputs": [
    {
     "name": "stdout",
     "output_type": "stream",
     "text": [
      "345\n",
      "543\n",
      "43\n"
     ]
    }
   ],
   "source": [
    "class Parents:\n",
    "    def __init__(self)->None:\n",
    "        self.weight = 345\n",
    "        self.height = 543\n",
    "        self.age = 43\n",
    "\n",
    "    \n",
    "class Child(Parents):\n",
    "    pass\n",
    "\n",
    "    \n",
    "\n",
    "Parents()\n",
    "child = Child()\n",
    "print(child.weight)\n",
    "print(child.height)\n",
    "print(child.age)"
   ]
  },
  {
   "cell_type": "code",
   "execution_count": 6,
   "metadata": {},
   "outputs": [
    {
     "name": "stdout",
     "output_type": "stream",
     "text": [
      "Brown\n",
      "black\n",
      "Parent method speak: Pakistan zinda bad!\n",
      "You are looking TV!\n",
      "======Child object=======\n",
      "You are looking Cenima!\n",
      "Parent method speak: Hello World\n",
      "Brown\n",
      "black\n"
     ]
    }
   ],
   "source": [
    "class Parents():\n",
    "    def __init__(self)->None:\n",
    "        self.eye_color : str = \"Brown\"\n",
    "        self.hair_color : str = \"black\"\n",
    "\n",
    "    def speak(self, words: str)->None:\n",
    "        print(f\"Parent method speak: {words}\")\n",
    "\n",
    "    def watching(self, object_name : str)->None:\n",
    "        print(f\"You are looking {object_name}!\")\n",
    "\n",
    "\n",
    "class Child(Parents):\n",
    "    def teaching(self, subject : str = None)->None:\n",
    "        print(f'Child method for teaching : {subject}')\n",
    "     \n",
    "\n",
    "\n",
    "obj1 : Parents = Parents()\n",
    "print(obj1.eye_color)\n",
    "print(obj1.hair_color)\n",
    "obj1.speak(\"Pakistan zinda bad!\")\n",
    "obj1.watching(\"TV\")\n",
    "\n",
    "\n",
    "print(\"======Child object=======\")\n",
    "### Child object \n",
    "\n",
    "obj2 : Child = Child()\n",
    "obj2.watching(\"Cenima\")\n",
    "obj2.speak(\"Hello World\")\n",
    "print(obj2.eye_color)\n",
    "print(obj2.hair_color)"
   ]
  },
  {
   "cell_type": "markdown",
   "metadata": {},
   "source": [
    "### With child constructor parameters\n",
    "\n",
    "`The super() function is a built-in function that returns the objects that represent the parent class. It allows to access the parent class’s methods and attributes in the child class.`"
   ]
  },
  {
   "cell_type": "code",
   "execution_count": 16,
   "metadata": {},
   "outputs": [
    {
     "name": "stdout",
     "output_type": "stream",
     "text": [
      "The title of Employee job is Graphic Designer\n",
      "The name of Employee job is Abraar\n",
      "The experience of Employee job is 8\n",
      "The age of Employee job is 20\n",
      "The title of Employee job is Full Stack Developer\n",
      "The name of Employee job is Talha\n",
      "The experience of Employee job is 3\n",
      "The age of Employee job is 20\n",
      "<__main__.Designer object at 0x00000209AA1CC380>\n",
      "<__main__.Developer object at 0x00000209AA1CFC20>\n"
     ]
    }
   ],
   "source": [
    "class Employee:\n",
    "    def __init__(self,name:str,experience:int,age:int)->None:\n",
    "        self.name = name\n",
    "        self.experience = experience\n",
    "        self.age = age\n",
    "\n",
    "    \n",
    "class Designer(Employee):\n",
    "    def __init__(self,title:str,name:str,experience:int,age:int)->None:\n",
    "        super().__init__(name,experience,age) # It can be defined as below\n",
    "        print(f\"The title of Employee job is {title}\")\n",
    "        print(f\"The name of Employee job is {name}\")\n",
    "        print(f\"The experience of Employee job is {experience}\")\n",
    "        print(f\"The age of Employee job is {age}\")\n",
    "\n",
    "class Developer(Employee):\n",
    "    def __init__(self, title)->None:\n",
    "        super().__init__('Talha',3,20) # It can also be defined as\n",
    "        print(f\"The title of Employee job is {title}\")\n",
    "        print(f\"The name of Employee job is {self.name}\")\n",
    "        print(f\"The experience of Employee job is {self.experience}\")\n",
    "        print(f\"The age of Employee job is {self.age}\")\n",
    "\n",
    "\n",
    "designer = Designer('Graphic Designer','Abraar',8,20)\n",
    "developer = Developer('Full Stack Developer')\n",
    "\n",
    "print(designer)\n",
    "# print('')\n",
    "print(developer)"
   ]
  }
 ],
 "metadata": {
  "kernelspec": {
   "display_name": "myenv3_12",
   "language": "python",
   "name": "python3"
  },
  "language_info": {
   "codemirror_mode": {
    "name": "ipython",
    "version": 3
   },
   "file_extension": ".py",
   "mimetype": "text/x-python",
   "name": "python",
   "nbconvert_exporter": "python",
   "pygments_lexer": "ipython3",
   "version": "3.12.0"
  }
 },
 "nbformat": 4,
 "nbformat_minor": 2
}
