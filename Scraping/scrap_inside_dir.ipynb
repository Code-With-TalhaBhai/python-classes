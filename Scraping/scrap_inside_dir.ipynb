{
 "cells": [
  {
   "cell_type": "markdown",
   "metadata": {},
   "source": [
    "### Through Selenium"
   ]
  },
  {
   "cell_type": "code",
   "execution_count": 2,
   "metadata": {},
   "outputs": [],
   "source": [
    "import requests\n",
    "from bs4 import BeautifulSoup\n",
    "from selenium import webdriver\n",
    "import time\n",
    "import os"
   ]
  },
  {
   "cell_type": "code",
   "execution_count": 4,
   "metadata": {},
   "outputs": [],
   "source": [
    "driver = webdriver.Chrome()\n",
    "\n",
    "url = 'https://github.com/joschan21/casecobra/tree/master/public'\n",
    "# Through requests\n",
    "# r = requests.get(url) \n",
    "# content = r.text\n",
    "\n",
    "# Through selenium\n",
    "driver.get(url)\n",
    "time.sleep(3)\n",
    "content = driver.page_source.encode('utf-8').strip()\n",
    "soup = BeautifulSoup(content,'html.parser')\n",
    "\n",
    "# parent_div = soup.findAll('div',class_=\"react-directory-truncate\")\n",
    "parent_div = soup.findAll('div',class_=\"react-directory-truncate\")\n",
    "\n",
    "# print(parent_div)\n",
    "\n",
    "directories = []\n",
    "\n",
    "for item in parent_div:\n",
    "    anchor = item.find('a')\n",
    "    label = anchor.get('aria-label')\n",
    "    # print(label)\n",
    "    if \"(Directory)\" in label:\n",
    "        href = anchor.get('href')\n",
    "        title,ext = label.split(\",\")\n",
    "        directories.append((title,href))\n",
    "\n",
    "directories = set(directories)\n",
    "# print(directories)\n",
    "\n",
    "for directory in directories:\n",
    "    title,href = directory\n",
    "\n",
    "    try:\n",
    "        os.mkdir(f'./public/{title}')\n",
    "    except:\n",
    "        print(\"Directory already exists\")\n",
    "\n",
    "\n",
    "    dir_url = f\"{url}/{title}\"\n",
    "    driver.get(dir_url)\n",
    "    time.sleep(3)\n",
    "    content = driver.page_source.encode('utf-8').strip()\n",
    "    soup = BeautifulSoup(content,'html.parser')\n",
    "\n",
    "    anchor_tags = soup.find_all('a')\n",
    "    links = []\n",
    "\n",
    "    for anchor in anchor_tags:\n",
    "        href = anchor.get('href')\n",
    "\n",
    "        if href and (\".png\" in href or \".jpg\" in href):\n",
    "            link_title = anchor.get_text(strip=True)\n",
    "            links.append((link_title,href))\n",
    "\n",
    "    link_set = set(links)\n",
    "\n",
    "    for link in link_set:\n",
    "        link_title,href = link\n",
    "        img = requests.get(f'https://github.com/{href}')\n",
    "\n",
    "        with open(f\"./public/{title}/{link_title}\",'wb') as file:\n",
    "            file.write(img.content)"
   ]
  }
 ],
 "metadata": {
  "kernelspec": {
   "display_name": "base",
   "language": "python",
   "name": "python3"
  },
  "language_info": {
   "codemirror_mode": {
    "name": "ipython",
    "version": 3
   },
   "file_extension": ".py",
   "mimetype": "text/x-python",
   "name": "python",
   "nbconvert_exporter": "python",
   "pygments_lexer": "ipython3",
   "version": "3.11.4"
  }
 },
 "nbformat": 4,
 "nbformat_minor": 2
}
