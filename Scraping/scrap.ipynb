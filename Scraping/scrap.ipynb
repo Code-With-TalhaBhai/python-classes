{
 "cells": [
  {
   "cell_type": "code",
   "execution_count": 23,
   "metadata": {},
   "outputs": [],
   "source": [
    "import requests\n",
    "from bs4 import BeautifulSoup\n",
    "import os"
   ]
  },
  {
   "cell_type": "code",
   "execution_count": 27,
   "metadata": {},
   "outputs": [
    {
     "name": "stdout",
     "output_type": "stream",
     "text": [
      "{('arrow.png', '/joschan21/casecobra/blob/master/public/arrow.png'), ('snake-1.png', '/joschan21/casecobra/blob/master/public/snake-1.png'), ('thumbnail.png', '/joschan21/casecobra/blob/master/public/thumbnail.png'), ('clearphone.png', '/joschan21/casecobra/blob/master/public/clearphone.png'), ('phone-template-white-edges.png', '/joschan21/casecobra/blob/master/public/phone-template-white-edges.png'), ('phone-template.png', '/joschan21/casecobra/blob/master/public/phone-template.png'), ('snake-3.png', '/joschan21/casecobra/blob/master/public/snake-3.png'), ('horse_phone.jpg', '/joschan21/casecobra/blob/master/public/horse_phone.jpg'), ('what-people-are-buying.png', '/joschan21/casecobra/blob/master/public/what-people-are-buying.png'), ('your-image.png', '/joschan21/casecobra/blob/master/public/your-image.png'), ('line.png', '/joschan21/casecobra/blob/master/public/line.png'), ('phone-template-dark-edges.png', '/joschan21/casecobra/blob/master/public/phone-template-dark-edges.png'), ('snake-2.png', '/joschan21/casecobra/blob/master/public/snake-2.png'), ('horse.jpg', '/joschan21/casecobra/blob/master/public/horse.jpg')}\n",
      "14\n"
     ]
    }
   ],
   "source": [
    "\n",
    "url = \"https://github.com/joschan21/casecobra/tree/master/public\"\n",
    "\n",
    "r = requests.get(url)\n",
    "soup = BeautifulSoup(r.text,'html.parser')\n",
    "\n",
    "anchor_tags = soup.find_all('a')\n",
    "links = []\n",
    "\n",
    "for anchor in anchor_tags: \n",
    "    href = anchor.get('href')\n",
    "\n",
    "    if href and (\".png\" in href or \".jpg\" in href):\n",
    "        # links.append((title,href))\n",
    "        title = anchor.get_text(strip=True)\n",
    "        links.append((title,href))\n",
    "\n",
    "\n",
    "links = set(links)\n",
    "print(links)\n",
    "print(len(links))"
   ]
  },
  {
   "cell_type": "code",
   "execution_count": 29,
   "metadata": {},
   "outputs": [
    {
     "name": "stdout",
     "output_type": "stream",
     "text": [
      "Directory already existed\n"
     ]
    }
   ],
   "source": [
    "import os\n",
    "import requests\n",
    "\n",
    "try:\n",
    "    os.mkdir('./public')\n",
    "except:\n",
    "    print(\"Directory already existed\")\n",
    "\n",
    "\n",
    "for link in links:\n",
    "    title,href = link\n",
    "    img = requests.get(f\"https://github.com/{href}\")\n",
    "\n",
    "    with open(f\"./public/{title}\",'wb') as file:\n",
    "        file.write(img.content)\n"
   ]
  }
 ],
 "metadata": {
  "kernelspec": {
   "display_name": "base",
   "language": "python",
   "name": "python3"
  },
  "language_info": {
   "codemirror_mode": {
    "name": "ipython",
    "version": 3
   },
   "file_extension": ".py",
   "mimetype": "text/x-python",
   "name": "python",
   "nbconvert_exporter": "python",
   "pygments_lexer": "ipython3",
   "version": "3.11.4"
  }
 },
 "nbformat": 4,
 "nbformat_minor": 2
}
