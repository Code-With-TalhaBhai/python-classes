{
 "cells": [
  {
   "cell_type": "markdown",
   "metadata": {},
   "source": [
    "##### Format full name some users put ',' in their name"
   ]
  },
  {
   "cell_type": "code",
   "execution_count": 14,
   "metadata": {},
   "outputs": [
    {
     "data": {
      "text/plain": [
       "'Hello, Talha, Khalid'"
      ]
     },
     "execution_count": 14,
     "metadata": {},
     "output_type": "execute_result"
    }
   ],
   "source": [
    "name = \"Talha, Khalid\"\n",
    "\n",
    "msg = f\"Hello, {name}\"\n",
    "msg"
   ]
  },
  {
   "cell_type": "code",
   "execution_count": 15,
   "metadata": {},
   "outputs": [
    {
     "data": {
      "text/plain": [
       "'Hello, Talha Khalid'"
      ]
     },
     "execution_count": 15,
     "metadata": {},
     "output_type": "execute_result"
    }
   ],
   "source": [
    "if \",\" in name:\n",
    "    first,last = name.split(', ')\n",
    "    name = f\"{first} {last}\"\n",
    "\n",
    "msg = f\"Hello, {name}\"\n",
    "msg"
   ]
  },
  {
   "cell_type": "markdown",
   "metadata": {},
   "source": [
    "`But what if there is a space before ',' and space after comma ',' and if there is no space`, we need regex in this situation"
   ]
  },
  {
   "cell_type": "markdown",
   "metadata": {},
   "source": [
    "#### Through Regex"
   ]
  },
  {
   "cell_type": "code",
   "execution_count": 29,
   "metadata": {},
   "outputs": [
    {
     "name": "stdout",
     "output_type": "stream",
     "text": [
      "valid\n",
      "invlaid\n"
     ]
    }
   ],
   "source": [
    "import re\n",
    "\n",
    "def msg(name):\n",
    "    print(f\"Hello, {name}\")\n",
    "\n",
    "name1 = \"Saleem, Khizer\"\n",
    "name2 = \"Saleem Khizer\"\n",
    "\n",
    "match = re.search(r\"^.+, ?.+$\",name1)\n",
    "if match:\n",
    "    print('valid')\n",
    "else:\n",
    "    print('invlaid')\n",
    "\n",
    "match = re.search(r\"^.+, .+$\",name2)\n",
    "if match:\n",
    "    print('valid')\n",
    "else:\n",
    "    print('invlaid')"
   ]
  },
  {
   "cell_type": "markdown",
   "metadata": {},
   "source": [
    "### Capturing Groups"
   ]
  },
  {
   "cell_type": "code",
   "execution_count": 39,
   "metadata": {},
   "outputs": [
    {
     "name": "stdout",
     "output_type": "stream",
     "text": [
      "Hello, Khizer Saleem\n"
     ]
    }
   ],
   "source": [
    "import re\n",
    "\n",
    "def msg(name):\n",
    "    print(f\"Hello, {name}\")\n",
    "\n",
    "name1 = \"Saleem,Khizer\"\n",
    "# name2 = \"Saleem Khizer\"\n",
    "\n",
    "match = re.search(r\"^(.+), ?(.+)$\",name1)\n",
    "# Group index start from 1\n",
    "last,first = match.groups()\n",
    "# first = match.group(1)\n",
    "# last = match.group(2)\n",
    "name = f\"{first} {last}\"\n",
    "msg(name)"
   ]
  },
  {
   "cell_type": "markdown",
   "metadata": {},
   "source": [
    "# Walrus Operator(:=)\n",
    "`What if no group available, we have to check it first`"
   ]
  },
  {
   "cell_type": "code",
   "execution_count": 48,
   "metadata": {},
   "outputs": [
    {
     "name": "stdout",
     "output_type": "stream",
     "text": [
      "Saleem Khizer\n",
      "Saleem Khizer\n",
      "invalid\n"
     ]
    }
   ],
   "source": [
    "import re\n",
    "\n",
    "def msg(name):\n",
    "    print(f\"Hello, {name}\")\n",
    "\n",
    "name1 = \"Saleem, Khizer\"\n",
    "name2 = \"Saleem Khizer\"\n",
    "\n",
    "match1 = re.search(r\"^(.+), ?(.+)$\",name1)\n",
    "if match1:\n",
    "    # last,first = match1.groups()\n",
    "    name = f\"{match1.group(1)} {match1.group(2)}\"\n",
    "    print(name)\n",
    "else:\n",
    "    print(\"invalid\")\n",
    "\n",
    "# with walrus operator -> Defining and checking condition at same time\n",
    "if match2 := re.search(r\"^(.+) ?(.+)$\",name1):\n",
    "    name = f\"{match1.group(1)} {match1.group(2)}\"\n",
    "    print(name)\n",
    "else:\n",
    "    print(\"invalid\")\n",
    "\n",
    "\n",
    "if match3 := re.search(r\"^(.+), ?(.+)$\",name2):\n",
    "    name = f\"{match1.group(1)} {match1.group(2)}\"\n",
    "    print(name)\n",
    "else:\n",
    "    print(\"invalid\")"
   ]
  }
 ],
 "metadata": {
  "kernelspec": {
   "display_name": "myenv3_12",
   "language": "python",
   "name": "python3"
  },
  "language_info": {
   "codemirror_mode": {
    "name": "ipython",
    "version": 3
   },
   "file_extension": ".py",
   "mimetype": "text/x-python",
   "name": "python",
   "nbconvert_exporter": "python",
   "pygments_lexer": "ipython3",
   "version": "3.12.0"
  }
 },
 "nbformat": 4,
 "nbformat_minor": 2
}
