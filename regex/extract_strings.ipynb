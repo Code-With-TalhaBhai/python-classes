{
 "cells": [
  {
   "cell_type": "markdown",
   "metadata": {},
   "source": [
    "##### Extracting username from URL"
   ]
  },
  {
   "cell_type": "code",
   "execution_count": 4,
   "metadata": {},
   "outputs": [
    {
     "data": {
      "text/plain": [
       "'talhabhai'"
      ]
     },
     "execution_count": 4,
     "metadata": {},
     "output_type": "execute_result"
    }
   ],
   "source": [
    "url = \"https://instagram.com/talhabhai\"\n",
    "\n",
    "username = url.replace(\"https://instagram.com/\",\"\")\n",
    "print(username)"
   ]
  },
  {
   "cell_type": "markdown",
   "metadata": {},
   "source": [
    "#### The problem with above example is:\n",
    "    1. If user not using https protocol, http protocol\n",
    "    2. If user does not mention `https` instead `instagram.com/talhabhai'\n",
    "    3. If we are using `/` at the end of username as `talhabhai/'\n",
    "\n",
    "In order to fix it, we have to use `regex`"
   ]
  },
  {
   "cell_type": "code",
   "execution_count": 8,
   "metadata": {},
   "outputs": [
    {
     "name": "stdout",
     "output_type": "stream",
     "text": [
      "talhabhai\n",
      "http://instagram.com/talhabhai\n",
      "instagram.com/talhabhai\n",
      "instagram.com/talhabhai/\n"
     ]
    }
   ],
   "source": [
    "test_cases = ['https://instagram.com/talhabhai','http://instagram.com/talhabhai','instagram.com/talhabhai','instagram.com/talhabhai/']\n",
    "\n",
    "\n",
    "for url in test_cases:\n",
    "    username = url.replace(\"https://instagram.com/\",\"\")\n",
    "    print(username)\n",
    "\n"
   ]
  },
  {
   "cell_type": "markdown",
   "metadata": {},
   "source": [
    "#### Fix above test_cases through `Regex`\n",
    "\n",
    "##### re.sub(pattern,repl,string,count=0,flags=0) -> Substitute(Replacement)\n",
    "\n",
    "\n",
    "`re.sub()` is used to clean data"
   ]
  },
  {
   "cell_type": "code",
   "execution_count": 57,
   "metadata": {},
   "outputs": [
    {
     "name": "stdout",
     "output_type": "stream",
     "text": [
      "talhabhai\n",
      "talhabhai\n",
      "talhabhai\n",
      "talhabhai\n",
      "talhabhai\n"
     ]
    }
   ],
   "source": [
    "import re\n",
    "test_cases = ['https://instagram.com/talhabhai','https://instagram.com/talhabhai','https://www.instagram.com/talhabhai','instagram.com/talhabhai','instagram.com/talhabhai/']\n",
    "\n",
    "# re.sub('original_pattern','replacement','original_string')\n",
    "for url in test_cases:\n",
    "    # username = re.sub(r\"^((http)s?://)?instagram.com/.+/$\",'',url)\n",
    "    # username = re.sub(r\"^((www\\.)?(http)s?://)?instagram\\.com/\",'',url)\n",
    "    clean_username = re.sub(r\"^(https?://)?(www\\.)?instagram\\.com/\",'',url)\n",
    "    username = re.sub(r\"/$\",'',clean_username)\n",
    "    print(username)"
   ]
  },
  {
   "cell_type": "markdown",
   "metadata": {},
   "source": [
    "#### Same thing re.search()"
   ]
  },
  {
   "cell_type": "code",
   "execution_count": 52,
   "metadata": {},
   "outputs": [
    {
     "name": "stdout",
     "output_type": "stream",
     "text": [
      "talhabhai\n",
      "talhabhai\n",
      "talhabhai\n",
      "talhabhai\n",
      "talhabhai\n"
     ]
    }
   ],
   "source": [
    "import re\n",
    "test_cases = ['https://instagram.com/talhabhai','https://instagram.com/talhabhai','https://www.instagram.com/talhabhai','instagram.com/talhabhai','instagram.com/talhabhai/']\n",
    "\n",
    "for url in test_cases:\n",
    "    # match = re.search(r'^(https?://)?(www\\.)?instagram.com/(\\w+)/?$',url)\n",
    "    # print(match.group(3)) # To avoid Group number we have to use `(?:)` inside group\n",
    "    match = re.search(r'^(?:https?://)?(?:www\\.)?instagram.com/(\\w+)/?$',url)\n",
    "    print(match.group(1))"
   ]
  }
 ],
 "metadata": {
  "kernelspec": {
   "display_name": "myenv3_12",
   "language": "python",
   "name": "python3"
  },
  "language_info": {
   "codemirror_mode": {
    "name": "ipython",
    "version": 3
   },
   "file_extension": ".py",
   "mimetype": "text/x-python",
   "name": "python",
   "nbconvert_exporter": "python",
   "pygments_lexer": "ipython3",
   "version": "3.12.0"
  }
 },
 "nbformat": 4,
 "nbformat_minor": 2
}
