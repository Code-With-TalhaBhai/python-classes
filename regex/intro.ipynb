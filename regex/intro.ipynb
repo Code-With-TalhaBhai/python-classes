{
 "cells": [
  {
   "cell_type": "code",
   "execution_count": 1,
   "metadata": {},
   "outputs": [],
   "source": [
    "import re\n",
    "\n",
    "# Four types of Regex\n",
    "# 1. findall -> Returns a list containing all matches\n",
    "# 2. search -> Returns a `Match object` if there is a match anywhere in string\n",
    "# 3. split -> Returns a list where string has been split at each match\n",
    "# 4. sub -> Replaces one or many matches in a string\n",
    "\n",
    "\n",
    "a = \"This is regex tutorial\"\n",
    "b = \"talhakhalid411@gmail.com\"\n",
    "c = \"hello\"\n",
    "d = \"xyz xy yz xz yx xyyz xxyz xyzz\"\n",
    "\n",
    "# re.search(pattern,string,flags=0)\n",
    "\n",
    "\n",
    "# ● -> Any character excepts a newline\n",
    "# * -> 0 or more repitition\n",
    "# + -> 1 or more repitition\n",
    "# ? -> 0 or 1 repitition\n",
    "# {m} -> m repitions\n",
    "# {m,n} -> m-n repitions\n",
    "# | -> Used for alternative as or operator in programming\n",
    "# () -> Used to group sub-patterns"
   ]
  },
  {
   "cell_type": "markdown",
   "metadata": {},
   "source": [
    "#### `MetaCharacters`"
   ]
  },
  {
   "cell_type": "markdown",
   "metadata": {},
   "source": [
    "`●` -> <b>Any character excepts a newline</b>   \n",
    "`*` -> <b> 0 or more repitition </b>    \n",
    "`+` -> <b> 1 or more repitition </b>     \n",
    "`?` -> <b>0 or 1 repitition</b>      \n",
    "`{m}` -> <b>m repitions</b>      \n",
    "`{m,n}` -> <b> m-n repitions </b>     \n",
    "`|` -> <b> Used for alternative as or operator in programming </b>      \n",
    "`()` -> <b> Used to group sub-patterns </b>  "
   ]
  },
  {
   "cell_type": "markdown",
   "metadata": {},
   "source": [
    "### Email validation step-by-step"
   ]
  },
  {
   "cell_type": "code",
   "execution_count": null,
   "metadata": {},
   "outputs": [],
   "source": [
    "ORIGINAL_EMAIL = \"talhakhalid411@gmail.com\""
   ]
  },
  {
   "cell_type": "code",
   "execution_count": 2,
   "metadata": {},
   "outputs": [
    {
     "name": "stdout",
     "output_type": "stream",
     "text": [
      "valid\n"
     ]
    }
   ],
   "source": [
    "import re\n",
    "\n",
    "invalid_but_valid_email = \"@\"\n",
    "\n",
    "if(re.search(\"@\",invalid_but_valid_email)):\n",
    "    print(\"valid\")\n",
    "else:\n",
    "    print(\"invalid\")"
   ]
  },
  {
   "cell_type": "markdown",
   "metadata": {},
   "source": [
    "#### Meta characters must be used with period(.) otherwise, it is treated as literal"
   ]
  },
  {
   "cell_type": "code",
   "execution_count": 7,
   "metadata": {},
   "outputs": [
    {
     "name": "stdout",
     "output_type": "stream",
     "text": [
      "invalid\n",
      "valid\n"
     ]
    }
   ],
   "source": [
    "import re\n",
    "\n",
    "invalid = \"@\"\n",
    "invalid_but_valid_email = \"t@\"\n",
    "\n",
    "# ● -> Expects some character before @\n",
    "if(re.search(\".@\",invalid)):\n",
    "    print(\"valid\")\n",
    "else:\n",
    "    print(\"invalid\")\n",
    "    \n",
    "if(re.search(\".@\",invalid_but_valid_email)):\n",
    "    print(\"valid\")\n",
    "else:\n",
    "    print(\"invalid\")"
   ]
  },
  {
   "cell_type": "code",
   "execution_count": 12,
   "metadata": {},
   "outputs": [
    {
     "name": "stdout",
     "output_type": "stream",
     "text": [
      "invalid\n",
      "valid\n"
     ]
    }
   ],
   "source": [
    "import re\n",
    "\n",
    "invalid = \"t@\"\n",
    "invalid_but_valid_email = \"t@l\"\n",
    "pattern = \".@.\"\n",
    "\n",
    "# ● -> Expects some character before @ and after\n",
    "if(re.search(pattern,invalid)):\n",
    "    print(\"valid\")\n",
    "else:\n",
    "    print(\"invalid\")\n",
    "    \n",
    "if(re.search(pattern,invalid_but_valid_email)):\n",
    "    print(\"valid\")\n",
    "else:\n",
    "    print(\"invalid\")"
   ]
  },
  {
   "cell_type": "code",
   "execution_count": 13,
   "metadata": {},
   "outputs": [
    {
     "name": "stdout",
     "output_type": "stream",
     "text": [
      "valid\n",
      "valid\n"
     ]
    }
   ],
   "source": [
    "import re\n",
    "\n",
    "invalid = \"t@\"\n",
    "invalid_but_valid_email = \"@l\"\n",
    "\n",
    "# ●* -> Expects zero or more character before @ and after\n",
    "pattern = \".*@.*\"\n",
    "\n",
    "if(re.search(pattern,invalid)):\n",
    "    print(\"valid\")\n",
    "else:\n",
    "    print(\"invalid\")\n",
    "    \n",
    "if(re.search(pattern,invalid_but_valid_email)):\n",
    "    print(\"valid\")\n",
    "else:\n",
    "    print(\"invalid\")"
   ]
  },
  {
   "cell_type": "markdown",
   "metadata": {},
   "source": [
    "#### But we need more than zero character at start or end"
   ]
  },
  {
   "cell_type": "code",
   "execution_count": 18,
   "metadata": {},
   "outputs": [
    {
     "name": "stdout",
     "output_type": "stream",
     "text": [
      "invalid\n",
      "valid\n"
     ]
    }
   ],
   "source": [
    "import re\n",
    "\n",
    "invalid = \"t@\"\n",
    "invalid_but_valid_email = \"t@l\"\n",
    "\n",
    "# ●+ -> Expects one or more character before @ and after\n",
    "pattern = \".+@.+\"\n",
    "\n",
    "if(re.search(pattern,invalid)):\n",
    "    print(\"valid\")\n",
    "else:\n",
    "    print(\"invalid\")\n",
    "    \n",
    "if(re.search(pattern,invalid_but_valid_email)):\n",
    "    print(\"valid\")\n",
    "else:\n",
    "    print(\"invalid\")"
   ]
  },
  {
   "cell_type": "markdown",
   "metadata": {},
   "source": [
    "#### We also need `.com` at the end"
   ]
  },
  {
   "cell_type": "code",
   "execution_count": 31,
   "metadata": {},
   "outputs": [
    {
     "name": "stdout",
     "output_type": "stream",
     "text": [
      "invalid\n",
      "valid\n"
     ]
    }
   ],
   "source": [
    "import re\n",
    "\n",
    "invalid_email = \"t@l\"\n",
    "invalid_but_valid_email = \"t@lyucom\"\n",
    "\n",
    "# . -> Expects or or more character before com\n",
    "# com -> Expects exact match of com\n",
    "pattern = \".+@.+.com\"\n",
    "\n",
    "if(re.search(pattern,invalid_email)):\n",
    "    print(\"valid\")\n",
    "else:\n",
    "    print(\"invalid\")\n",
    "    \n",
    "if(re.search(pattern,invalid_but_valid_email)):\n",
    "    print(\"valid\")\n",
    "else:\n",
    "    print(\"invalid\")"
   ]
  },
  {
   "cell_type": "markdown",
   "metadata": {},
   "source": [
    "#### Any character can be added before `com` but we need to add dot(.) before `com` at email. We have to use escape sequences.\n",
    "\n",
    "##### `In order to use escape sequences we can use a raw string literal by prefixing the regex pattern with \"r\" `"
   ]
  },
  {
   "cell_type": "code",
   "execution_count": 34,
   "metadata": {},
   "outputs": [
    {
     "name": "stdout",
     "output_type": "stream",
     "text": [
      "invalid\n",
      "valid\n"
     ]
    }
   ],
   "source": [
    "import re\n",
    "\n",
    "invalid_email = \"t@lfjdkcom\"\n",
    "invalid_but_valid_email = \"t@l.com\"\n",
    "\n",
    "# . -> Expects or or more character before com\n",
    "# com -> Expects exact match of compattern = \".+@.+.com\"\n",
    "\n",
    "pattern = r\".+@.+\\.com\"\n",
    "if(re.search(pattern,invalid_email)):\n",
    "    print(\"valid\")\n",
    "else:\n",
    "    print(\"invalid\")\n",
    "    \n",
    "if(re.search(pattern,invalid_but_valid_email)):\n",
    "    print(\"valid\")\n",
    "else:\n",
    "    print(\"invalid\")"
   ]
  },
  {
   "cell_type": "markdown",
   "metadata": {},
   "source": [
    "#### Any character can be added after `.com` we have to define it as last\n",
    "* `^`: Used to expect characters at first\n",
    "* `$`: Used to expect characters at last"
   ]
  },
  {
   "cell_type": "code",
   "execution_count": 7,
   "metadata": {},
   "outputs": [
    {
     "name": "stdout",
     "output_type": "stream",
     "text": [
      "invalid\n",
      "valid\n"
     ]
    }
   ],
   "source": [
    "import re\n",
    "\n",
    "invalid_email = \"t@l.comjfdks\"\n",
    "invalid_but_valid_email = \"t#@@@l.com\"\n",
    "\n",
    "# . -> Expects or or more character before com\n",
    "# $ -> Expects exact match of .com pattern at the end = \".+@.+.com$\"\n",
    "pattern = r\".+@.+\\.com$\"\n",
    "if(re.search(pattern,invalid_email)):\n",
    "    print(\"valid\")\n",
    "else:\n",
    "    print(\"invalid\")\n",
    "    \n",
    "if(re.search(pattern,invalid_but_valid_email)):\n",
    "    print(\"valid\")\n",
    "else:\n",
    "    print(\"invalid\")"
   ]
  },
  {
   "cell_type": "markdown",
   "metadata": {},
   "source": [
    "#### Any charcter other than `@` cannot be used in email\n",
    "\n",
    "* `[]` -> Set of characters that is allowed in pattern\n",
    "* `[^]` -> Set of characters that are not allowed in pattern"
   ]
  },
  {
   "cell_type": "code",
   "execution_count": 10,
   "metadata": {},
   "outputs": [
    {
     "name": "stdout",
     "output_type": "stream",
     "text": [
      "invalid\n",
      "valid\n"
     ]
    }
   ],
   "source": [
    "import re\n",
    "\n",
    "invalid_email = \"t#@@@l.com\"\n",
    "invalid_but_valid_email = \"t@l.com\"\n",
    "\n",
    "# ^ -> At the starting\n",
    "# [^@#] -> @ and # not allowed on such positions\n",
    "pattern = r\"^[^@#]+@[^@#]+\\.com$\"\n",
    "if(re.search(pattern,invalid_email)):\n",
    "    print(\"valid\")\n",
    "else:\n",
    "    print(\"invalid\")\n",
    "    \n",
    "if(re.search(pattern,invalid_but_valid_email)):\n",
    "    print(\"valid\")\n",
    "else:\n",
    "    print(\"invalid\")"
   ]
  },
  {
   "cell_type": "markdown",
   "metadata": {},
   "source": [
    "#### The problem with the above pattern that we can add special characters and `.com` at the begining. So, we have to define that only alphanumeric characters are allowed in begining and at end."
   ]
  },
  {
   "cell_type": "code",
   "execution_count": 7,
   "metadata": {},
   "outputs": [
    {
     "name": "stdout",
     "output_type": "stream",
     "text": [
      "invalid\n",
      "invalid\n"
     ]
    }
   ],
   "source": [
    "import re\n",
    "\n",
    "invalid_email = \".edutalha@j.com\"\n",
    "invalid_but_valid_email = \"talh_23@j23.com\"\n",
    "\n",
    "# ^ -> At the starting\n",
    "# [a-z] -> Defines range of characters from a-z(lower) Alphabets \n",
    "# [A-Z] -> Defines range of characters from A-Z(Upper) \n",
    "# [0-9] -> Defines range of numbers from 0-9\n",
    "# [_] -> Underscore can also be added in email\n",
    "pattern = r\"^[a-zA-Z0-9_]+@[a-zA-Z0-9_]+\\.com$\"\n",
    "if(re.search(pattern,invalid_email)):\n",
    "    print(\"valid\")\n",
    "else:\n",
    "    print(\"invalid\")\n",
    "    \n",
    "if(re.search(pattern,invalid_but_valid_email)):\n",
    "    print(\"valid\")\n",
    "else:\n",
    "    print(\"invalid\")"
   ]
  },
  {
   "cell_type": "markdown",
   "metadata": {},
   "source": [
    "### `Character Classes aka Special Sequences`\n",
    "\n",
    "`\\d`: <b>Decimal digit</b>    \n",
    "`\\D`: <b>Not a decimal digit</b>    \n",
    "`\\s`: <b>Whitespace character</b>    \n",
    "`\\S`: <b>Not a whitespace character</b>    \n",
    "`\\w`: <b>Word character as well as numbers and underscore</b>    \n",
    "`\\W`: <b>Not a word character</b>    "
   ]
  },
  {
   "cell_type": "markdown",
   "metadata": {},
   "source": [
    "#### The problem with above pattern is one have to define long pattern. so we replace the old pattern of alphnumeric`[a-zA-Z0-9_]` with `\\w` word(alphanumeric). Does the same thing. "
   ]
  },
  {
   "cell_type": "code",
   "execution_count": 14,
   "metadata": {},
   "outputs": [
    {
     "name": "stdout",
     "output_type": "stream",
     "text": [
      "invalid\n",
      "valid\n"
     ]
    }
   ],
   "source": [
    "import re\n",
    "\n",
    "invalid_email = \".edutalha@j.com\"\n",
    "invalid_but_valid_email = \"talh_23@j2_3.com\"\n",
    "\n",
    "# \\w -> Refers to word alphanumeric\n",
    "\n",
    "pattern = r\"^\\w+@\\w+\\.com$\"\n",
    "if(re.search(pattern,invalid_email)):\n",
    "    print(\"valid\")\n",
    "else:\n",
    "    print(\"invalid\")\n",
    "    \n",
    "if(re.search(pattern,invalid_but_valid_email)):\n",
    "    print(\"valid\")\n",
    "else:\n",
    "    print(\"invalid\")"
   ]
  },
  {
   "cell_type": "markdown",
   "metadata": {},
   "source": [
    "##### The problem with the above pattern is that only `.com` can be used domain level whereas there is also other top-level domains available which are: `['.edu','.org','.net','.int']` "
   ]
  },
  {
   "cell_type": "code",
   "execution_count": 17,
   "metadata": {},
   "outputs": [
    {
     "name": "stdout",
     "output_type": "stream",
     "text": [
      "invalid\n",
      "valid\n"
     ]
    }
   ],
   "source": [
    "import re\n",
    "\n",
    "invalid_email = \"talha_23@jib.rip\"\n",
    "invalid_but_valid_email = \"talha_23@jib.org\"\n",
    "\n",
    "# () -> Group\n",
    "# | -> alternative like `or`` operator \n",
    "pattern = r\"^\\w+@\\w+\\.(com|edu|org|net)$\"\n",
    "\n",
    "if(re.search(pattern,invalid_email)):\n",
    "    print(\"valid\")\n",
    "else:\n",
    "    print(\"invalid\")\n",
    "    \n",
    "if(re.search(pattern,invalid_but_valid_email)):\n",
    "    print(\"valid\")\n",
    "else:\n",
    "    print(\"invalid\")"
   ]
  },
  {
   "cell_type": "markdown",
   "metadata": {},
   "source": [
    "#### `Flags` in regex pattern\n",
    "\n",
    "re.search(pattern,string,flags=0)\n",
    "\n",
    "Three types of flags\n",
    "1. re.IGNORECASE -> To handle case insenstivity  \n",
    "2. re.MULTILINE -> Matches whole line in multi-line paragraph within paragraph\n",
    "3. re.DOTALL -> "
   ]
  },
  {
   "cell_type": "code",
   "execution_count": 20,
   "metadata": {},
   "outputs": [
    {
     "name": "stdout",
     "output_type": "stream",
     "text": [
      "WITH FLAG\n",
      "valid\n",
      "WITHOUT FLAG\n",
      "invalid\n"
     ]
    }
   ],
   "source": [
    "import re\n",
    "\n",
    "email = \"TALHA_23@JIB.ORG\"\n",
    "\n",
    "# () -> Group refers to alternative like or operator \n",
    "pattern = r\"^\\w+@\\w+\\.(com|edu|org|net)$\"\n",
    "\n",
    "print(\"WITH FLAG\")\n",
    "if(re.search(pattern,email,flags=re.IGNORECASE)):\n",
    "    print(\"valid\")\n",
    "else:\n",
    "    print(\"invalid\")\n",
    "    \n",
    "print(\"WITHOUT FLAG\")\n",
    "if(re.search(pattern,email)):\n",
    "    print(\"valid\") # as it expects '.org' in lowercase\n",
    "else:\n",
    "    print(\"invalid\")"
   ]
  }
 ],
 "metadata": {
  "kernelspec": {
   "display_name": "myenv3_12",
   "language": "python",
   "name": "python3"
  },
  "language_info": {
   "codemirror_mode": {
    "name": "ipython",
    "version": 3
   },
   "file_extension": ".py",
   "mimetype": "text/x-python",
   "name": "python",
   "nbconvert_exporter": "python",
   "pygments_lexer": "ipython3",
   "version": "3.12.0"
  }
 },
 "nbformat": 4,
 "nbformat_minor": 2
}
