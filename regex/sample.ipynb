{
 "cells": [
  {
   "cell_type": "markdown",
   "metadata": {},
   "source": [
    "### Email validation without regex"
   ]
  },
  {
   "cell_type": "code",
   "execution_count": 6,
   "metadata": {},
   "outputs": [
    {
     "name": "stdout",
     "output_type": "stream",
     "text": [
      "valid\n"
     ]
    }
   ],
   "source": [
    "### Email validation without regex\n",
    "\n",
    "# email = \"talhakhalid411@gmail.com\"\n",
    "email = \"talhakhalid411@.com\" # Not valid\n",
    "\n",
    "username,domain = email.split(\"@\")\n",
    "# 'and'.join(sp)\n",
    "\n",
    "if username and \".\" in domain:\n",
    "    print(\"valid\")\n",
    "else:\n",
    "    print(\"Invalid\")\n"
   ]
  },
  {
   "cell_type": "code",
   "execution_count": 7,
   "metadata": {},
   "outputs": [
    {
     "name": "stdout",
     "output_type": "stream",
     "text": [
      "Invalid\n"
     ]
    }
   ],
   "source": [
    "### Email validation without regex\n",
    "\n",
    "# email = \"talhakhalid411@gmail.com\"\n",
    "email = \"talhakhalid411@.com\" # Not valid\n",
    "\n",
    "username,domain = email.split(\"@\")\n",
    "domain_name,domain_type = domain.split(\".\")\n",
    "\n",
    "if username and domain_name and domain_type:\n",
    "    print(\"valid\")\n",
    "else:\n",
    "    print(\"Invalid\")\n"
   ]
  }
 ],
 "metadata": {
  "kernelspec": {
   "display_name": "myenv3_12",
   "language": "python",
   "name": "python3"
  },
  "language_info": {
   "codemirror_mode": {
    "name": "ipython",
    "version": 3
   },
   "file_extension": ".py",
   "mimetype": "text/x-python",
   "name": "python",
   "nbconvert_exporter": "python",
   "pygments_lexer": "ipython3",
   "version": "3.12.0"
  }
 },
 "nbformat": 4,
 "nbformat_minor": 2
}
