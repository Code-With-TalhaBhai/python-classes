{
 "cells": [
  {
   "cell_type": "code",
   "execution_count": 1,
   "metadata": {},
   "outputs": [],
   "source": [
    "import re"
   ]
  },
  {
   "cell_type": "code",
   "execution_count": 192,
   "metadata": {},
   "outputs": [
    {
     "name": "stdout",
     "output_type": "stream",
     "text": [
      "24\n",
      "[('21:00:43', '', 'PIAIC80919'), ('21:01:43', '', 'PIAIC80919'), ('21:04:19', '', 'PIAIC80919'), ('21:05:21', '', 'PIAIC80919'), ('21:09:38', '', 'PIAIC80919'), ('21:29:40', '', 'PIAIC80919'), ('', '\\t', 'PIAIC-173738'), ('', '\\t', 'PIAIC-201785'), ('', '\\t', 'piaic'), ('', '\\t', 'PIAIC101499'), ('', '\\t', 'PIAIC-52822'), ('', '\\t', 'PIAIC123456'), ('21:42:00', 'Rehan Baig - ', 'PIAIC73919'), ('', '\\t', 'PIAIC73919'), ('21:42:01', 'M. Waheed Iqbal (', 'PIAIC_126369'), ('', '\\t', 'PIAIC_126369'), ('', '\\t', 'PIAIC210905'), ('', '\\t', 'PIAIC-604031'), ('', '\\t', 'PIAIC120702'), ('', '\\t', 'PIAIC218333'), ('', '\\t', 'PIAIC139495'), ('', '\\t', 'PIAIC-225620'), ('', '\\t', 'PIAIC58320'), ('', '\\t', 'PIAIC-216511')]\n"
     ]
    }
   ],
   "source": [
    "with open('chat.txt') as chat:\n",
    "    full_chat = chat.read()\n",
    "    # data = re.findall(r\"(\\d{2}:\\d{2}:\\d{2}) From ([pPiIaAIicC])\",full_chat)\n",
    "    # data = re.findall(r\"\\d{2}:\\d{2}:\\d{2} From PIAIC\\d{5}\",full_chat)\n",
    "\n",
    "    # data = re.findall(r\"(\\d{2}:\\d{2}:\\d{2})? (?:From)? (piaic|PIAIC\\d{5})\",full_chat)\n",
    "    \n",
    "    data = re.findall(r\"(\\d{2}:\\d{2}:\\d{2})? (?:From)? [a-zA-Z ]+ (piaic|PIAIC(?:_|-)?\\d{5})\",full_chat)\n",
    "    # data = re.findall(r\"(?:From)? (piaic|PIAIC(_|-)?\\d{5})\",full_chat)\n",
    "\n",
    "    # data = re.findall(r\"(\\d{2}:\\d{2}:\\d{2})? (?:From)? (piaic|PIAIC)\",full_chat)\n",
    "    # data = re.findall(r\"(piaic|PIAIC)(-|_)?\",full_chat)\n",
    "    # data = re.findall(r\"(\\d{2}:\\d{2}:\\d{2})?(?:From)? ?(piaic|PIAIC(?:_|-)?\\d{5})\",full_chat)\n",
    "    \n",
    "    # data = re.findall(r\"(\\d{2}:\\d{2}:\\d{2})? ?(?:From)? ?(piaic|PIAIC(?:_|-)?\\d{5,6})\",full_chat)\n",
    "    \n",
    "    data = re.findall(r\"(\\d{2}:\\d{2}:\\d{2})? ?(?:From)? ?(.*)? ?(?:to)? ?(piaic|PIAIC(?:_|-)?\\d{5,6})\",full_chat)\n",
    "    # print(len(data))\n",
    "    print(len(data))\n",
    "    print(data)"
   ]
  },
  {
   "cell_type": "code",
   "execution_count": 270,
   "metadata": {},
   "outputs": [
    {
     "name": "stdout",
     "output_type": "stream",
     "text": [
      "8\n",
      "[('21:41:45', 'Altaf Hussain', '173738'), ('21:41:52', 'jhon wick', '223880'), ('21:41:54', 'Hatif Humayun', '52822'), ('21:42:00', 'Rehan Baig - PIAIC73919', '73919'), ('21:42:01', 'M. Waheed Iqbal (PIAIC_126369)', '126369'), ('21:42:06', 'ABDUL KHALIQ', '604031'), ('21:42:13', 'Azfar Suhail', '218333'), ('21:42:20', 'Ayesha Arshad', '225620')]\n"
     ]
    }
   ],
   "source": [
    "full_chat = \"\"\n",
    "with open('chat.txt') as chat:\n",
    "    full_chat = chat.read()\n",
    "\n",
    "# Customized by me\n",
    "pattern = r'''\n",
    "(\\d{2}:\\d{2}:\\d{2}) From (.*) to Everyone:\n",
    "\t(?:PIAIC|piaic)(?:[-_: ])?(\\d{5,6})\n",
    "'''\n",
    "\n",
    "# Sir Qasim\n",
    "# pattern = r'''\n",
    "# (\\d{2}:\\d{2}:\\d{2}) From (.*) to Everyone:\n",
    "# \t(PIAIC[-:_]? ?\\d{5,6})\n",
    "# '''\n",
    "data = re.findall(pattern,full_chat)\n",
    "print(len(data))\n",
    "print(data)"
   ]
  },
  {
   "cell_type": "code",
   "execution_count": 282,
   "metadata": {},
   "outputs": [
    {
     "data": {
      "text/html": [
       "<div>\n",
       "<style scoped>\n",
       "    .dataframe tbody tr th:only-of-type {\n",
       "        vertical-align: middle;\n",
       "    }\n",
       "\n",
       "    .dataframe tbody tr th {\n",
       "        vertical-align: top;\n",
       "    }\n",
       "\n",
       "    .dataframe thead th {\n",
       "        text-align: right;\n",
       "    }\n",
       "</style>\n",
       "<table border=\"1\" class=\"dataframe\">\n",
       "  <thead>\n",
       "    <tr style=\"text-align: right;\">\n",
       "      <th></th>\n",
       "      <th>Time</th>\n",
       "      <th>Name</th>\n",
       "      <th>Roll_No</th>\n",
       "    </tr>\n",
       "  </thead>\n",
       "  <tbody>\n",
       "    <tr>\n",
       "      <th>0</th>\n",
       "      <td>21:41:45</td>\n",
       "      <td>Altaf Hussain</td>\n",
       "      <td>173738</td>\n",
       "    </tr>\n",
       "    <tr>\n",
       "      <th>1</th>\n",
       "      <td>21:41:52</td>\n",
       "      <td>jhon wick</td>\n",
       "      <td>223880</td>\n",
       "    </tr>\n",
       "    <tr>\n",
       "      <th>2</th>\n",
       "      <td>21:41:54</td>\n",
       "      <td>Hatif Humayun</td>\n",
       "      <td>52822</td>\n",
       "    </tr>\n",
       "    <tr>\n",
       "      <th>3</th>\n",
       "      <td>21:42:00</td>\n",
       "      <td>Rehan Baig - PIAIC73919</td>\n",
       "      <td>73919</td>\n",
       "    </tr>\n",
       "    <tr>\n",
       "      <th>4</th>\n",
       "      <td>21:42:01</td>\n",
       "      <td>M. Waheed Iqbal (PIAIC_126369)</td>\n",
       "      <td>126369</td>\n",
       "    </tr>\n",
       "    <tr>\n",
       "      <th>5</th>\n",
       "      <td>21:42:06</td>\n",
       "      <td>ABDUL KHALIQ</td>\n",
       "      <td>604031</td>\n",
       "    </tr>\n",
       "    <tr>\n",
       "      <th>6</th>\n",
       "      <td>21:42:13</td>\n",
       "      <td>Azfar Suhail</td>\n",
       "      <td>218333</td>\n",
       "    </tr>\n",
       "    <tr>\n",
       "      <th>7</th>\n",
       "      <td>21:42:20</td>\n",
       "      <td>Ayesha Arshad</td>\n",
       "      <td>225620</td>\n",
       "    </tr>\n",
       "  </tbody>\n",
       "</table>\n",
       "</div>"
      ],
      "text/plain": [
       "       Time                            Name Roll_No\n",
       "0  21:41:45                   Altaf Hussain  173738\n",
       "1  21:41:52                       jhon wick  223880\n",
       "2  21:41:54                   Hatif Humayun   52822\n",
       "3  21:42:00         Rehan Baig - PIAIC73919   73919\n",
       "4  21:42:01  M. Waheed Iqbal (PIAIC_126369)  126369\n",
       "5  21:42:06                    ABDUL KHALIQ  604031\n",
       "6  21:42:13                    Azfar Suhail  218333\n",
       "7  21:42:20                   Ayesha Arshad  225620"
      ]
     },
     "execution_count": 282,
     "metadata": {},
     "output_type": "execute_result"
    }
   ],
   "source": [
    "import pandas as pd\n",
    "df = pd.DataFrame(data,columns=[\"Time\",\"Name\",\"Roll_No\"])\n",
    "df"
   ]
  },
  {
   "cell_type": "code",
   "execution_count": 284,
   "metadata": {},
   "outputs": [],
   "source": [
    "df.to_csv(\"chat_data.csv\",index=False)"
   ]
  }
 ],
 "metadata": {
  "kernelspec": {
   "display_name": "myenv3_12",
   "language": "python",
   "name": "python3"
  },
  "language_info": {
   "codemirror_mode": {
    "name": "ipython",
    "version": 3
   },
   "file_extension": ".py",
   "mimetype": "text/x-python",
   "name": "python",
   "nbconvert_exporter": "python",
   "pygments_lexer": "ipython3",
   "version": "3.12.0"
  }
 },
 "nbformat": 4,
 "nbformat_minor": 2
}
