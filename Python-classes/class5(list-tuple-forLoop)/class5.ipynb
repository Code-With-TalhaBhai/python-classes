{
 "cells": [
  {
   "cell_type": "code",
   "execution_count": 3,
   "metadata": {},
   "outputs": [
    {
     "name": "stdout",
     "output_type": "stream",
     "text": [
      "volvo\n",
      "bMW\n",
      "Audi\n",
      "MG\n",
      "boyotta\n",
      "\n",
      "volvo\n",
      "bMW\n",
      "Audi\n",
      "MG\n",
      "boyotta\n"
     ]
    }
   ],
   "source": [
    "cars : list[str] = ['volvo','bMW','Audi','MG','toyotta']\n",
    "\n",
    "for c in cars:\n",
    "    print(c)\n",
    "\n",
    "print()\n",
    "i : int = 0\n",
    "while i<len(cars):\n",
    "    print(cars[i])\n",
    "    i+=1"
   ]
  },
  {
   "cell_type": "code",
   "execution_count": 4,
   "metadata": {},
   "outputs": [
    {
     "name": "stdout",
     "output_type": "stream",
     "text": [
      "The car company is: Volvo\n",
      "The car company is: Bmw\n",
      "The car company is: Audi\n",
      "The car company is: Mg\n",
      "The car company is: Toyotta\n"
     ]
    }
   ],
   "source": [
    "cars : list[str] = ['volvo','bMW','Audi','MG','toyotta']\n",
    "\n",
    "for c in cars:\n",
    "    print(f\"The car company is: {c.title()}\")"
   ]
  },
  {
   "cell_type": "code",
   "execution_count": 5,
   "metadata": {},
   "outputs": [
    {
     "name": "stdout",
     "output_type": "stream",
     "text": [
      "Audi\n",
      "MG\n",
      "toyotta\n"
     ]
    }
   ],
   "source": [
    "cars : list[str] = ['volvo','bMW','Audi','MG','toyotta']\n",
    "\n",
    "for c in cars[2:]:\n",
    "    print(c)"
   ]
  },
  {
   "cell_type": "markdown",
   "metadata": {},
   "source": [
    "# Tuple"
   ]
  },
  {
   "cell_type": "code",
   "execution_count": 3,
   "metadata": {},
   "outputs": [
    {
     "name": "stdout",
     "output_type": "stream",
     "text": [
      "(1, 'Talha')\n",
      "(2, 'Khizer')\n",
      "(3, 'Abrar')\n"
     ]
    }
   ],
   "source": [
    "arr : list[tuple[int,str]] = [\n",
    "    (1,\"Talha\"),\n",
    "    (2,\"Khizer\"),\n",
    "    (3,\"Abrar\")\n",
    "    ]\n",
    "\n",
    "for t in arr:\n",
    "    print(t)"
   ]
  },
  {
   "cell_type": "code",
   "execution_count": 8,
   "metadata": {},
   "outputs": [
    {
     "name": "stdout",
     "output_type": "stream",
     "text": [
      "admin\n",
      "123\n"
     ]
    }
   ],
   "source": [
    "name,password = ('admin','123')\n",
    "print(name)\n",
    "print(password)"
   ]
  },
  {
   "cell_type": "code",
   "execution_count": 10,
   "metadata": {},
   "outputs": [
    {
     "name": "stdout",
     "output_type": "stream",
     "text": [
      "Name:  qasim\n",
      "Password:  123\n",
      "\n",
      "Name:  sirzia\n",
      "Password:  345\n",
      "\n",
      "Name:  ikhlas\n",
      "Password:  789\n",
      "\n"
     ]
    }
   ],
   "source": [
    "database = [\n",
    "        (\"qasim\",'123'),\n",
    "        (\"sirzia\",'345'),\n",
    "        ('ikhlas','789')\n",
    "        ]\n",
    "\n",
    "for tup in database:\n",
    "    name,password = tup\n",
    "    print('Name: ',name)\n",
    "    print('Password: ',password)\n",
    "    print()\n"
   ]
  },
  {
   "cell_type": "markdown",
   "metadata": {},
   "source": [
    "# Enumerate"
   ]
  },
  {
   "cell_type": "code",
   "execution_count": 5,
   "metadata": {},
   "outputs": [
    {
     "name": "stdout",
     "output_type": "stream",
     "text": [
      "[(0, 'alice'), (1, 'david'), (2, 'carolina')]\n",
      "[(5, 'alice'), (6, 'david'), (7, 'carolina')]\n",
      "[(0, 'rhs'), (1, 'ducky'), (2, 'maaz')]\n",
      "[(0, 'socerr'), (1, 'cricket'), (2, 'snooker')]\n",
      "[(0, {'name': 'jfdksl', 'age': 23}), (1, {'name': 'fjdsk', 'age': 643})]\n"
     ]
    }
   ],
   "source": [
    "magicians = ['alice', 'david', 'carolina']\n",
    "# enumerate is a generator function -->  make iteratable object tuple and return along with its `index`\n",
    "print(list(enumerate(magicians)))\n",
    "# Also specify start index\n",
    "print(list(enumerate(magicians,5)))\n",
    "\n",
    "\n",
    "print(list(enumerate(['rhs','ducky','maaz']))) # Array\n",
    "print(list(enumerate(('socerr','cricket','snooker')))) # tuple\n",
    "print(list(enumerate([{'name':'jfdksl','age':23},{'name':'fjdsk','age':643}]))) #dictionary\n"
   ]
  },
  {
   "cell_type": "markdown",
   "metadata": {},
   "source": [
    "# Table"
   ]
  },
  {
   "cell_type": "code",
   "execution_count": 7,
   "metadata": {},
   "outputs": [
    {
     "name": "stdout",
     "output_type": "stream",
     "text": [
      "23 * 1 = 23\n",
      "23 * 2 = 46\n",
      "23 * 3 = 69\n",
      "23 * 4 = 92\n",
      "23 * 5 = 115\n",
      "23 * 6 = 138\n",
      "23 * 7 = 161\n",
      "23 * 8 = 184\n",
      "23 * 9 = 207\n",
      "23 * 10 = 230\n"
     ]
    }
   ],
   "source": [
    "num : int = int(input(\"Enter the numbe whose table you want to print: \"))\n",
    "\n",
    "for i in range(1,11):\n",
    "    print(f\"{num} * {i} = {num * i}\")"
   ]
  },
  {
   "cell_type": "code",
   "execution_count": null,
   "metadata": {},
   "outputs": [],
   "source": []
  }
 ],
 "metadata": {
  "kernelspec": {
   "display_name": "myenv3_12",
   "language": "python",
   "name": "python3"
  },
  "language_info": {
   "codemirror_mode": {
    "name": "ipython",
    "version": 3
   },
   "file_extension": ".py",
   "mimetype": "text/x-python",
   "name": "python",
   "nbconvert_exporter": "python",
   "pygments_lexer": "ipython3",
   "version": "3.12.0"
  }
 },
 "nbformat": 4,
 "nbformat_minor": 2
}
