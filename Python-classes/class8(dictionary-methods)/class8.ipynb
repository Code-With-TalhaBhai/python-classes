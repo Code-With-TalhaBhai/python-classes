{
 "cells": [
  {
   "cell_type": "markdown",
   "metadata": {},
   "source": [
    "## Methods"
   ]
  },
  {
   "cell_type": "code",
   "execution_count": 1,
   "metadata": {},
   "outputs": [
    {
     "data": {
      "text/plain": [
       "['clear',\n",
       " 'copy',\n",
       " 'fromkeys',\n",
       " 'get',\n",
       " 'items',\n",
       " 'keys',\n",
       " 'pop',\n",
       " 'popitem',\n",
       " 'setdefault',\n",
       " 'update',\n",
       " 'values']"
      ]
     },
     "execution_count": 1,
     "metadata": {},
     "output_type": "execute_result"
    }
   ],
   "source": [
    "[m for m in dir(dict) if \"__\" not in m]"
   ]
  },
  {
   "cell_type": "code",
   "execution_count": 11,
   "metadata": {},
   "outputs": [
    {
     "name": "stdout",
     "output_type": "stream",
     "text": [
      "{'fname': 'Muhammad Aslam', 'education': 'MSDS'}\n",
      "Graduation\n",
      "BSCS\n",
      "{'fname': 'Muhammad Aslam', 'education': 'MSDS'}\n",
      "{'fname': 'Muhammad Aslam'}\n",
      "before data {'fname': 'Muhammad Aslam'}\n",
      "after data\n"
     ]
    }
   ],
   "source": [
    "from typing import Dict\n",
    "data : Dict[str,str] = {\n",
    "                        \"fname\":\"Muhammad Aslam\",\n",
    "                        \"name\":\"Muhammad Qasim\",\n",
    "                        \"education\": \"MSDS\"\n",
    "                        }\n",
    "\n",
    "# deletes specific element from dictionary by key\n",
    "data.pop('name')\n",
    "print(data)\n",
    "# Returns the value of specific key, also define BY-DEFAULT value, if not present\n",
    "print(data.get('Degree','Graduation'))\n",
    "print(data.get('Education','BSCS'))\n",
    "print(data)\n",
    "\n",
    "\n",
    "data.popitem() # pop out last element\n",
    "print(data)"
   ]
  },
  {
   "cell_type": "code",
   "execution_count": 12,
   "metadata": {},
   "outputs": [
    {
     "name": "stdout",
     "output_type": "stream",
     "text": [
      "before data {'fname': 'Muhammad Aslam', 'name': 'Muhammad Qasim', 'education': 'MSDS'}\n"
     ]
    },
    {
     "ename": "NameError",
     "evalue": "name 'data' is not defined",
     "output_type": "error",
     "traceback": [
      "\u001b[1;31m---------------------------------------------------------------------------\u001b[0m",
      "\u001b[1;31mNameError\u001b[0m                                 Traceback (most recent call last)",
      "\u001b[1;32mc:\\Code_Apps\\python-classes\\Python-classes\\class8(dictionary-methods)\\class8.ipynb Cell 4\u001b[0m line \u001b[0;36m1\n\u001b[0;32m      <a href='vscode-notebook-cell:/c%3A/Code_Apps/python-classes/Python-classes/class8%28dictionary-methods%29/class8.ipynb#W3sZmlsZQ%3D%3D?line=7'>8</a>\u001b[0m \u001b[39mprint\u001b[39m(\u001b[39m'\u001b[39m\u001b[39mbefore data\u001b[39m\u001b[39m'\u001b[39m,data)\n\u001b[0;32m      <a href='vscode-notebook-cell:/c%3A/Code_Apps/python-classes/Python-classes/class8%28dictionary-methods%29/class8.ipynb#W3sZmlsZQ%3D%3D?line=8'>9</a>\u001b[0m \u001b[39mdel\u001b[39;00m data\n\u001b[1;32m---> <a href='vscode-notebook-cell:/c%3A/Code_Apps/python-classes/Python-classes/class8%28dictionary-methods%29/class8.ipynb#W3sZmlsZQ%3D%3D?line=9'>10</a>\u001b[0m \u001b[39mprint\u001b[39m(\u001b[39m'\u001b[39m\u001b[39mafter data\u001b[39m\u001b[39m'\u001b[39m,data)\n",
      "\u001b[1;31mNameError\u001b[0m: name 'data' is not defined"
     ]
    }
   ],
   "source": [
    "from typing import Dict\n",
    "data : Dict[str,str] = {\n",
    "                        \"fname\":\"Muhammad Aslam\",\n",
    "                        \"name\":\"Muhammad Qasim\",\n",
    "                        \"education\": \"MSDS\"\n",
    "                        }\n",
    "\n",
    "print('before data',data)\n",
    "del data\n",
    "print('after data',data)"
   ]
  },
  {
   "cell_type": "code",
   "execution_count": 14,
   "metadata": {},
   "outputs": [
    {
     "name": "stdout",
     "output_type": "stream",
     "text": [
      "before data\n",
      "{'fname': 'Muhammad Aslam', 'name': 'Muhammad Qasim', 'education': 'MSDS'}\n",
      "after data\n",
      "{}\n"
     ]
    }
   ],
   "source": [
    "from typing import Dict\n",
    "data : Dict[str,str] = {\n",
    "                        \"fname\":\"Muhammad Aslam\",\n",
    "                        \"name\":\"Muhammad Qasim\",\n",
    "                        \"education\": \"MSDS\"\n",
    "                    }\n",
    "\n",
    "print('before data')\n",
    "print(data)\n",
    "data.clear()\n",
    "print('after data')\n",
    "print(data)"
   ]
  },
  {
   "cell_type": "code",
   "execution_count": 4,
   "metadata": {},
   "outputs": [
    {
     "name": "stdout",
     "output_type": "stream",
     "text": [
      "dict_keys(['fname', 'name', 'education'])\n",
      "dict_values(['Muhammad Aslam', 'Muhammad Qasim', 'MSDS'])\n",
      "dict_items([('fname', 'Muhammad Aslam'), ('name', 'Muhammad Qasim'), ('education', 'MSDS')])\n"
     ]
    }
   ],
   "source": [
    "from typing import Dict\n",
    "data : Dict[str,str] = {\n",
    "                        \"fname\":\"Muhammad Aslam\",\n",
    "                        \"name\":\"Muhammad Qasim\",\n",
    "                        \"education\": \"MSDS\"\n",
    "                    }\n",
    "\n",
    "\n",
    "print(data.keys()) # Return `list` of keys\n",
    "print(data.values()) # Return `list` of values\n",
    "print(data.items()) # Return `list` of `tuple` of `items(key-value pairs)`"
   ]
  },
  {
   "cell_type": "code",
   "execution_count": 10,
   "metadata": {},
   "outputs": [
    {
     "data": {
      "text/plain": [
       "{'fname': 'Muhammad Aslam',\n",
       " 'name': 'Muhammad Qasim',\n",
       " 'education': 'BSCS',\n",
       " 'age': '30',\n",
       " 'profession': 'Chief Operating Officer',\n",
       " 'semester': '3rd'}"
      ]
     },
     "execution_count": 10,
     "metadata": {},
     "output_type": "execute_result"
    }
   ],
   "source": [
    "from typing import Dict\n",
    "data : Dict[str,str] = {\n",
    "                        \"fname\":\"Muhammad Aslam\",\n",
    "                        \"name\":\"Muhammad Qasim\",\n",
    "                        \"education\": \"MSDS\"\n",
    "}\n",
    "\n",
    "data.update({'education':'BSCS'})\n",
    "# updating with an iterable\n",
    "data.update(age='20',profession='Chief Operating Officer')\n",
    "# updating with tuple\n",
    "data.update([('age','30'),('semester','3rd')])\n",
    "data"
   ]
  },
  {
   "cell_type": "code",
   "execution_count": 20,
   "metadata": {},
   "outputs": [
    {
     "name": "stdout",
     "output_type": "stream",
     "text": [
      "{'first': 4, 'second': 4, 'third': 4}\n",
      "{0: [], 1: [], 2: [], 3: []}\n",
      "{'first': 4, 'second': 4, 'third': 4, 'fourth': 6}\n"
     ]
    }
   ],
   "source": [
    "from typing import Dict\n",
    "\n",
    "# give default values to every key\n",
    "empty1 = dict.fromkeys({'first','second','third'},4)\n",
    "empty2 = dict.fromkeys(range(4),[])\n",
    "print(empty1)\n",
    "print(empty2)\n",
    "\n",
    "empty1['fourth'] = 6\n",
    "print(empty1)"
   ]
  },
  {
   "cell_type": "markdown",
   "metadata": {},
   "source": [
    "### Deep copy vs Shallow copy"
   ]
  },
  {
   "cell_type": "code",
   "execution_count": 26,
   "metadata": {},
   "outputs": [
    {
     "name": "stdout",
     "output_type": "stream",
     "text": [
      "{'fname': 'Muhammad Aslam', 'name': 'Muhammad Qasim', 'education': 'BSCS'}\n",
      "{'fname': 'Muhammad Aslam', 'name': 'Muhammad Qasim', 'education': 'BSCS'}\n",
      "\n",
      "{'fname': 'Muhammad Aslam', 'name': 'Muhammad Qasim', 'education': 'BSCS', 'age': '30'}\n",
      "{'fname': 'Muhammad Aslam', 'name': 'Muhammad Qasim', 'education': 'BSCS'}\n"
     ]
    }
   ],
   "source": [
    "from typing import Dict\n",
    "data : Dict[str,str] = {\n",
    "                        \"fname\":\"Muhammad Aslam\",\n",
    "                        \"name\":\"Muhammad Qasim\",\n",
    "                        \"education\": \"MSDS\"\n",
    "}\n",
    "\n",
    "shallow = data # Shallow copy is when only the copy of object and its changes when the original one changes\n",
    "\n",
    "data.update({'education':'BSCS'})\n",
    "print(data)\n",
    "print(shallow)\n",
    "\n",
    "print()\n",
    "\n",
    "deep = data.copy() # Deep copy refers to copy along with its element and doesn't changes when the original one\n",
    "data.update({'age':'30'})\n",
    "print(data)\n",
    "print(deep)"
   ]
  }
 ],
 "metadata": {
  "kernelspec": {
   "display_name": "myenv3_12",
   "language": "python",
   "name": "python3"
  },
  "language_info": {
   "codemirror_mode": {
    "name": "ipython",
    "version": 3
   },
   "file_extension": ".py",
   "mimetype": "text/x-python",
   "name": "python",
   "nbconvert_exporter": "python",
   "pygments_lexer": "ipython3",
   "version": "3.12.0"
  }
 },
 "nbformat": 4,
 "nbformat_minor": 2
}
