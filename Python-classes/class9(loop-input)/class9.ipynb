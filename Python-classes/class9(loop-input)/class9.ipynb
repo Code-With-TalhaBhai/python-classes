{
 "cells": [
  {
   "cell_type": "code",
   "execution_count": 1,
   "metadata": {},
   "outputs": [
    {
     "name": "stdout",
     "output_type": "stream",
     "text": [
      "1\n",
      "2\n",
      "3\n",
      "4\n",
      "5\n",
      "6\n",
      "7\n",
      "8\n",
      "9\n",
      "10\n"
     ]
    }
   ],
   "source": [
    "# List\n",
    "for i in [1,2,3,4,5]:\n",
    "    print(i)\n",
    "\n",
    "for i in range(6,11):\n",
    "    print(i)"
   ]
  },
  {
   "cell_type": "code",
   "execution_count": 2,
   "metadata": {},
   "outputs": [
    {
     "name": "stdout",
     "output_type": "stream",
     "text": [
      "1\n",
      "3\n",
      "2\n",
      "3\n",
      "5\n",
      "353\n"
     ]
    }
   ],
   "source": [
    "#tuple\n",
    "tup = (1,3,2,3,5,353)\n",
    "for t in tup:\n",
    "    print(t)"
   ]
  },
  {
   "cell_type": "code",
   "execution_count": 3,
   "metadata": {},
   "outputs": [
    {
     "name": "stdout",
     "output_type": "stream",
     "text": [
      "I\n",
      " \n",
      "l\n",
      "o\n",
      "v\n",
      "e\n",
      " \n",
      "P\n",
      "a\n",
      "k\n",
      "i\n",
      "s\n",
      "t\n",
      "a\n",
      "n\n"
     ]
    }
   ],
   "source": [
    "# String\n",
    "\n",
    "msg : str = \"I love Pakistan\"\n",
    "\n",
    "for m in msg:\n",
    "    print(m)\n",
    "\n",
    "\n"
   ]
  },
  {
   "cell_type": "code",
   "execution_count": 8,
   "metadata": {},
   "outputs": [
    {
     "name": "stdout",
     "output_type": "stream",
     "text": [
      "name\n",
      "talha\n",
      "age\n",
      "23\n"
     ]
    }
   ],
   "source": [
    "# Dictionary\n",
    "\n",
    "dist = {\n",
    "    'name':'talha',\n",
    "    'age': 23\n",
    "}\n",
    "\n",
    "for d in dist:\n",
    "    print(d)\n",
    "    print(dist[d])"
   ]
  },
  {
   "cell_type": "code",
   "execution_count": 11,
   "metadata": {},
   "outputs": [
    {
     "name": "stdout",
     "output_type": "stream",
     "text": [
      "not works\n"
     ]
    }
   ],
   "source": [
    "x = 43\n",
    "y = 23\n",
    "\n",
    "if(x is y):\n",
    "    print('Is operator working')\n",
    "else:\n",
    "    print('not works')"
   ]
  },
  {
   "cell_type": "markdown",
   "metadata": {},
   "source": [
    "### Sets"
   ]
  },
  {
   "cell_type": "code",
   "execution_count": 3,
   "metadata": {},
   "outputs": [
    {
     "name": "stdout",
     "output_type": "stream",
     "text": [
      "{1, 2, 3, 4, 5}\n"
     ]
    }
   ],
   "source": [
    "s1 : set[int] = {1,3,2,2,4,2,3,2,3,3,5}\n",
    "print(s1)"
   ]
  },
  {
   "cell_type": "code",
   "execution_count": 5,
   "metadata": {},
   "outputs": [
    {
     "name": "stdout",
     "output_type": "stream",
     "text": [
      "1\n",
      "2\n",
      "3\n",
      "4\n",
      "5\n"
     ]
    }
   ],
   "source": [
    "l1 : list[set[int]] = list({1,3,2,2,4,2,3,2,3,3,5})\n",
    "for l in l1:\n",
    "    print(l)"
   ]
  },
  {
   "cell_type": "markdown",
   "metadata": {},
   "source": [
    "## Zip function"
   ]
  },
  {
   "cell_type": "code",
   "execution_count": 17,
   "metadata": {},
   "outputs": [
    {
     "name": "stdout",
     "output_type": "stream",
     "text": [
      "<zip object at 0x000001D5E5C77C00>\n",
      "Talha\n",
      "Khalid\n",
      "T\n",
      "K\n"
     ]
    }
   ],
   "source": [
    "# Zip function returns an Iterator\n",
    "# Iterator -> In Python, an iterator is an object that represents a sequence of data.\n",
    "# It provides a way to access the elements of the sequence one at a time,\n",
    "# without the need to load the entire sequence into memory\n",
    "\n",
    "\n",
    "name = ('Talha','Khizer','Abrar')\n",
    "father_name = ('Khalid','Saleem','Ahmed')\n",
    "\n",
    "final = zip(name,father_name) # Combines and makes separate tuple of same index\n",
    "print(final)\n",
    "\n",
    "# In order to see elements of zip() function pass into any iterable\n",
    "# print(list(final))\n",
    "# print(tuple(final))\n",
    "\n",
    "\n",
    "# my_name,f_name = list(final)\n",
    "# print(my_name)\n",
    "# print(f_name)\n",
    "\n",
    "# name,fname = ('Talha','Khalid')\n",
    "name,fname = ['Talha','Khalid']\n",
    "print(name)\n",
    "print(fname)\n",
    "print(name[0])\n",
    "print(fname[0])\n",
    "\n"
   ]
  }
 ],
 "metadata": {
  "kernelspec": {
   "display_name": "myenv3_12",
   "language": "python",
   "name": "python3"
  },
  "language_info": {
   "codemirror_mode": {
    "name": "ipython",
    "version": 3
   },
   "file_extension": ".py",
   "mimetype": "text/x-python",
   "name": "python",
   "nbconvert_exporter": "python",
   "pygments_lexer": "ipython3",
   "version": "3.12.0"
  }
 },
 "nbformat": 4,
 "nbformat_minor": 2
}
