{
 "cells": [
  {
   "cell_type": "code",
   "execution_count": 1,
   "metadata": {},
   "outputs": [
    {
     "name": "stdout",
     "output_type": "stream",
     "text": [
      "Requirement already satisfied: numpy in c:\\users\\taaaayaauaaaaaaaaaaa\\miniconda3\\envs\\myenv3_12\\lib\\site-packages (1.26.1)\n",
      "Note: you may need to restart the kernel to use updated packages.\n"
     ]
    }
   ],
   "source": [
    "%pip install numpy"
   ]
  },
  {
   "cell_type": "code",
   "execution_count": 1,
   "metadata": {},
   "outputs": [
    {
     "name": "stdout",
     "output_type": "stream",
     "text": [
      "Collecting nptypingNote: you may need to restart the kernel to use updated packages.\n",
      "\n",
      "  Downloading nptyping-2.5.0-py3-none-any.whl (37 kB)\n",
      "Collecting beartype\n",
      "  Obtaining dependency information for beartype from https://files.pythonhosted.org/packages/46/8a/a90fe78c73958340ed6b6ab128a10598ad5f0ff57537ad17f6ccd1ad830b/beartype-0.16.4-py3-none-any.whl.metadata\n",
      "  Downloading beartype-0.16.4-py3-none-any.whl.metadata (29 kB)\n",
      "Requirement already satisfied: numpy<2.0.0,>=1.20.0 in c:\\users\\taaaayaauaaaaaaaaaaa\\miniconda3\\envs\\myenv3_12\\lib\\site-packages (from nptyping) (1.26.1)\n",
      "Downloading beartype-0.16.4-py3-none-any.whl (819 kB)\n",
      "   ---------------------------------------- 0.0/819.1 kB ? eta -:--:--\n",
      "   -- ------------------------------------- 41.0/819.1 kB 1.9 MB/s eta 0:00:01\n",
      "   ---- ----------------------------------- 92.2/819.1 kB 1.3 MB/s eta 0:00:01\n",
      "   -------- ------------------------------- 163.8/819.1 kB 1.2 MB/s eta 0:00:01\n",
      "   ----------- ---------------------------- 225.3/819.1 kB 1.3 MB/s eta 0:00:01\n",
      "   -------------- ------------------------- 286.7/819.1 kB 1.3 MB/s eta 0:00:01\n",
      "   ---------------- ----------------------- 337.9/819.1 kB 1.2 MB/s eta 0:00:01\n",
      "   -------------------- ------------------- 409.6/819.1 kB 1.2 MB/s eta 0:00:01\n",
      "   ----------------------- ---------------- 471.0/819.1 kB 1.3 MB/s eta 0:00:01\n",
      "   ------------------------- -------------- 522.2/819.1 kB 1.2 MB/s eta 0:00:01\n",
      "   ---------------------------- ----------- 573.4/819.1 kB 1.2 MB/s eta 0:00:01\n",
      "   ------------------------------ --------- 624.6/819.1 kB 1.2 MB/s eta 0:00:01\n",
      "   --------------------------------- ------ 675.8/819.1 kB 1.2 MB/s eta 0:00:01\n",
      "   ----------------------------------- ---- 727.0/819.1 kB 1.2 MB/s eta 0:00:01\n",
      "   -------------------------------------- - 788.5/819.1 kB 1.2 MB/s eta 0:00:01\n",
      "   ---------------------------------------- 819.1/819.1 kB 1.2 MB/s eta 0:00:00\n",
      "Installing collected packages: nptyping, beartype\n",
      "Successfully installed beartype-0.16.4 nptyping-2.5.0\n"
     ]
    }
   ],
   "source": [
    "%pip install nptyping beartype"
   ]
  },
  {
   "cell_type": "markdown",
   "metadata": {},
   "source": [
    "## Scaler Value (Single-Dimensional)"
   ]
  },
  {
   "cell_type": "code",
   "execution_count": 9,
   "metadata": {},
   "outputs": [
    {
     "name": "stdout",
     "output_type": "stream",
     "text": [
      "10000\n",
      "Shape: ()\n",
      "Dimensions: 0\n",
      "Size: 1\n",
      "ItemSize: 4\n",
      "Type: int32\n",
      "<class 'numpy.ndarray'>\n"
     ]
    }
   ],
   "source": [
    "import numpy as np\n",
    "\n",
    "a : np.ndarray = np.array(10000) # object to store\n",
    "\n",
    "print(a)\n",
    "print(f\"Shape: {a.shape}\") # prints the shape of object () = 0 -denormalized\n",
    "print(f\"Dimensions: {a.ndim}\") # prints the number of dimensions\n",
    "print(f\"Size: {a.size}\") # prints the size of object\n",
    "print(f\"ItemSize: {a.itemsize}\") # prints the itemsize of the object\n",
    "print(f\"Type: {a.dtype}\")\n",
    "print(f\"{type(a)}\")"
   ]
  },
  {
   "cell_type": "code",
   "execution_count": 15,
   "metadata": {},
   "outputs": [
    {
     "name": "stdout",
     "output_type": "stream",
     "text": [
      "[1 3 5 5]\n",
      "Shape: (4,)\n",
      "Dimensions: 1\n",
      "Size: 4\n",
      "ItemSize: 4\n",
      "Type: int32\n",
      "<class 'numpy.ndarray'>\n"
     ]
    }
   ],
   "source": [
    "import numpy as np\n",
    "\n",
    "x : np.ndarray = np.array((1,3,5,5)) # passing tuple\n",
    "\n",
    "print(x)\n",
    "print(f\"Shape: {x.shape}\") # prints the shape of object () = 0 -denormalized\n",
    "print(f\"Dimensions: {x.ndim}\") # prints the number of dimensions\n",
    "print(f\"Size: {x.size}\") # prints the size of object\n",
    "print(f\"ItemSize: {x.itemsize}\") # prints the itemsize of the object\n",
    "print(f\"Type: {x.dtype}\")\n",
    "print(f\"{type(x)}\")"
   ]
  },
  {
   "cell_type": "code",
   "execution_count": 5,
   "metadata": {},
   "outputs": [
    {
     "name": "stdout",
     "output_type": "stream",
     "text": [
      "[1 2 3 5]\n",
      "(4,)\n",
      "<class 'numpy.ndarray'>\n"
     ]
    },
    {
     "data": {
      "text/plain": [
       "array([1, 2, 3, 5])"
      ]
     },
     "execution_count": 5,
     "metadata": {},
     "output_type": "execute_result"
    }
   ],
   "source": [
    "from typing import Any\n",
    "import numpy as np\n",
    "from nptyping import NDArray,Shape\n",
    "\n",
    "x : NDArray[np.int64] = np.array([1,2,3,5])\n",
    "print(x)\n",
    "print(x.shape)\n",
    "print(type(x))\n",
    "x"
   ]
  },
  {
   "cell_type": "markdown",
   "metadata": {},
   "source": [
    "## Vector Type"
   ]
  },
  {
   "cell_type": "markdown",
   "metadata": {},
   "source": [
    "### 1-dimensional Numpy Array"
   ]
  },
  {
   "cell_type": "code",
   "execution_count": 14,
   "metadata": {},
   "outputs": [
    {
     "name": "stdout",
     "output_type": "stream",
     "text": [
      "1\n",
      "int32\n",
      "(5,)\n",
      "NDArray[Any, Any]\n",
      "[1 2 3 4 5]\n"
     ]
    }
   ],
   "source": [
    "from nptyping import NDArray,Shape\n",
    "from typing import Any\n",
    "import numpy as np\n",
    "x : NDArray[Shape['5'],Any] = np.arange(1,6)\n",
    "print(x.ndim)\n",
    "print(x.dtype)\n",
    "print(x.shape)\n",
    "print(NDArray)\n",
    "print(x)"
   ]
  },
  {
   "cell_type": "markdown",
   "metadata": {},
   "source": [
    "### 2-dimensional Numpy Array"
   ]
  },
  {
   "cell_type": "code",
   "execution_count": 2,
   "metadata": {},
   "outputs": [
    {
     "name": "stdout",
     "output_type": "stream",
     "text": [
      "2\n",
      "(2, 3)\n",
      "[[ 234  321   53]\n",
      " [2342   53 2523]]\n"
     ]
    }
   ],
   "source": [
    "import numpy as np\n",
    "x = np.array([[234,321,53],[2342,53,2523]])\n",
    "print(x.ndim)\n",
    "print(x.shape)\n",
    "print(x)"
   ]
  },
  {
   "cell_type": "markdown",
   "metadata": {},
   "source": [
    "### 3-dimensional NumpyArray"
   ]
  },
  {
   "cell_type": "code",
   "execution_count": 10,
   "metadata": {},
   "outputs": [
    {
     "name": "stdout",
     "output_type": "stream",
     "text": [
      "3\n",
      "[[[ 1  2]\n",
      "  [ 4  5]\n",
      "  [ 7  8]]\n",
      "\n",
      " [[10 11]\n",
      "  [13 14]\n",
      "  [16 17]]\n",
      "\n",
      " [[19 20]\n",
      "  [22 23]\n",
      "  [25 26]]]\n"
     ]
    }
   ],
   "source": [
    "x = np.array([\n",
    "    [\n",
    "        [1,2],[4,5],[7,8]\n",
    "    ],\n",
    "    [\n",
    "        [10,11],[13,14],[16,17]\n",
    "    ],\n",
    "    [\n",
    "        [19,20],[22,23],[25,26]\n",
    "    ]\n",
    "    ])\n",
    "\n",
    "print(x.ndim)\n",
    "print(x)"
   ]
  },
  {
   "cell_type": "markdown",
   "metadata": {},
   "source": [
    "### Higher-order Dimensional Array"
   ]
  },
  {
   "cell_type": "code",
   "execution_count": 4,
   "metadata": {},
   "outputs": [
    {
     "name": "stdout",
     "output_type": "stream",
     "text": [
      "5\n",
      "[[[[[1 4 5]]]]]\n"
     ]
    }
   ],
   "source": [
    "x = np.array([1,4,5],ndmin=5)\n",
    "print(x.ndim)\n",
    "print(x)"
   ]
  },
  {
   "cell_type": "markdown",
   "metadata": {},
   "source": [
    "# Shape"
   ]
  },
  {
   "cell_type": "code",
   "execution_count": 2,
   "metadata": {},
   "outputs": [
    {
     "name": "stdout",
     "output_type": "stream",
     "text": [
      "[[ 234  321   53]\n",
      " [2342   53 2523]]\n",
      "2\n",
      "(2, 3)\n"
     ]
    }
   ],
   "source": [
    "import numpy as np\n",
    "x = np.array([[234,321,53],[2342,53,2523]])\n",
    "print(x)\n",
    "print(x.ndim) # prints dimension of numpy array\n",
    "print(x.shape) # prints shape(row,col) of numpy array"
   ]
  },
  {
   "cell_type": "code",
   "execution_count": 3,
   "metadata": {},
   "outputs": [
    {
     "name": "stdout",
     "output_type": "stream",
     "text": [
      "[[[ 1  2]\n",
      "  [ 4  5]\n",
      "  [ 7  8]]\n",
      "\n",
      " [[10 11]\n",
      "  [13 14]\n",
      "  [16 17]]\n",
      "\n",
      " [[19 20]\n",
      "  [22 23]\n",
      "  [25 26]]]\n",
      "3\n",
      "(3, 3, 2)\n"
     ]
    }
   ],
   "source": [
    "x = np.array([\n",
    "    [\n",
    "        [1,2],[4,5],[7,8]\n",
    "    ],\n",
    "    [\n",
    "        [10,11],[13,14],[16,17]\n",
    "    ],\n",
    "    [\n",
    "        [19,20],[22,23],[25,26]\n",
    "    ]\n",
    "    ])\n",
    "\n",
    "print(x)\n",
    "print(x.ndim)\n",
    "print(x.shape)"
   ]
  },
  {
   "cell_type": "code",
   "execution_count": 4,
   "metadata": {},
   "outputs": [
    {
     "name": "stdout",
     "output_type": "stream",
     "text": [
      "[[[[[[[1 2 3 5 7]]]]]]]\n",
      "7\n",
      "(1, 1, 1, 1, 1, 1, 5)\n"
     ]
    }
   ],
   "source": [
    "x = np.array([1,2,3,5,7], ndmin=7)\n",
    "print(x)\n",
    "print(x.ndim)\n",
    "print(x.shape)"
   ]
  },
  {
   "cell_type": "markdown",
   "metadata": {},
   "source": [
    "# Re-shape\n",
    "\n",
    "### Changing dimensions of numpy array"
   ]
  },
  {
   "cell_type": "code",
   "execution_count": 20,
   "metadata": {},
   "outputs": [
    {
     "name": "stdout",
     "output_type": "stream",
     "text": [
      "[[1 2]\n",
      " [3 4]\n",
      " [5 6]]\n",
      "2\n",
      "\n",
      "[[1]\n",
      " [2]\n",
      " [3]\n",
      " [4]\n",
      " [5]\n",
      " [6]]\n",
      "2\n",
      "\n",
      "[[1 2 3 4 5 6]]\n",
      "2\n"
     ]
    }
   ],
   "source": [
    "arr = np.array([1,2,3,4,5,6])\n",
    "\n",
    "reshape1 = arr.reshape(3,2)\n",
    "print(reshape1)\n",
    "print(reshape1.ndim)\n",
    "print()\n",
    "reshape2 = arr.reshape(6,1)\n",
    "print(reshape2)\n",
    "print(reshape2.ndim)\n",
    "print()\n",
    "reshape3 = arr.reshape(1,6)\n",
    "print(reshape3)\n",
    "print(reshape3.ndim)"
   ]
  },
  {
   "cell_type": "code",
   "execution_count": 22,
   "metadata": {},
   "outputs": [
    {
     "name": "stdout",
     "output_type": "stream",
     "text": [
      "[[1 2 6]\n",
      " [3 4 5]]\n",
      "2\n",
      "(2, 3)\n",
      "\n",
      "[[1 2]\n",
      " [6 3]\n",
      " [4 5]]\n",
      "2\n",
      "\n",
      "[[1 2 6 3 4 5]]\n",
      "2\n"
     ]
    }
   ],
   "source": [
    "arr = np.array([[1,2,6],[3,4,5]])\n",
    "print(arr)\n",
    "print(arr.ndim)\n",
    "print(arr.shape)\n",
    "print()\n",
    "reshape1 = arr.reshape(3,2)\n",
    "print(reshape1)\n",
    "print(reshape1.ndim)\n",
    "print()\n",
    "reshape2 = arr.reshape(1,6)\n",
    "print(reshape2)\n",
    "print(reshape2.ndim)"
   ]
  },
  {
   "cell_type": "markdown",
   "metadata": {},
   "source": [
    "#### Error-> If numpy array re-shaping requires more element than original array"
   ]
  },
  {
   "cell_type": "code",
   "execution_count": 19,
   "metadata": {},
   "outputs": [
    {
     "name": "stdout",
     "output_type": "stream",
     "text": [
      "[[1 2 6]\n",
      " [3 4 5]]\n"
     ]
    },
    {
     "ename": "ValueError",
     "evalue": "cannot reshape array of size 1 into shape (4,)",
     "output_type": "error",
     "traceback": [
      "\u001b[1;31m---------------------------------------------------------------------------\u001b[0m",
      "\u001b[1;31mValueError\u001b[0m                                Traceback (most recent call last)",
      "\u001b[1;32mc:\\Code_Apps\\python-classes\\Python-classes\\Numpy\\class16.ipynb Cell 19\u001b[0m line \u001b[0;36m4\n\u001b[0;32m      <a href='vscode-notebook-cell:/c%3A/Code_Apps/python-classes/Python-classes/Numpy/class16.ipynb#X23sZmlsZQ%3D%3D?line=0'>1</a>\u001b[0m arr \u001b[39m=\u001b[39m np\u001b[39m.\u001b[39marray([[\u001b[39m1\u001b[39m,\u001b[39m2\u001b[39m,\u001b[39m6\u001b[39m],[\u001b[39m3\u001b[39m,\u001b[39m4\u001b[39m,\u001b[39m5\u001b[39m]])\n\u001b[0;32m      <a href='vscode-notebook-cell:/c%3A/Code_Apps/python-classes/Python-classes/Numpy/class16.ipynb#X23sZmlsZQ%3D%3D?line=1'>2</a>\u001b[0m \u001b[39mprint\u001b[39m(arr)\n\u001b[1;32m----> <a href='vscode-notebook-cell:/c%3A/Code_Apps/python-classes/Python-classes/Numpy/class16.ipynb#X23sZmlsZQ%3D%3D?line=3'>4</a>\u001b[0m reshape \u001b[39m=\u001b[39m np\u001b[39m.\u001b[39;49mreshape(\u001b[39m2\u001b[39;49m,\u001b[39m4\u001b[39;49m)\n\u001b[0;32m      <a href='vscode-notebook-cell:/c%3A/Code_Apps/python-classes/Python-classes/Numpy/class16.ipynb#X23sZmlsZQ%3D%3D?line=4'>5</a>\u001b[0m \u001b[39mprint\u001b[39m(reshape)\n",
      "File \u001b[1;32mc:\\Users\\taaaayaauaaaaaaaaaaa\\miniconda3\\envs\\myenv3_12\\Lib\\site-packages\\numpy\\core\\fromnumeric.py:285\u001b[0m, in \u001b[0;36mreshape\u001b[1;34m(a, newshape, order)\u001b[0m\n\u001b[0;32m    200\u001b[0m \u001b[39m@array_function_dispatch\u001b[39m(_reshape_dispatcher)\n\u001b[0;32m    201\u001b[0m \u001b[39mdef\u001b[39;00m \u001b[39mreshape\u001b[39m(a, newshape, order\u001b[39m=\u001b[39m\u001b[39m'\u001b[39m\u001b[39mC\u001b[39m\u001b[39m'\u001b[39m):\n\u001b[0;32m    202\u001b[0m \u001b[39m    \u001b[39m\u001b[39m\"\"\"\u001b[39;00m\n\u001b[0;32m    203\u001b[0m \u001b[39m    Gives a new shape to an array without changing its data.\u001b[39;00m\n\u001b[0;32m    204\u001b[0m \n\u001b[1;32m   (...)\u001b[0m\n\u001b[0;32m    283\u001b[0m \u001b[39m           [5, 6]])\u001b[39;00m\n\u001b[0;32m    284\u001b[0m \u001b[39m    \"\"\"\u001b[39;00m\n\u001b[1;32m--> 285\u001b[0m     \u001b[39mreturn\u001b[39;00m _wrapfunc(a, \u001b[39m'\u001b[39;49m\u001b[39mreshape\u001b[39;49m\u001b[39m'\u001b[39;49m, newshape, order\u001b[39m=\u001b[39;49morder)\n",
      "File \u001b[1;32mc:\\Users\\taaaayaauaaaaaaaaaaa\\miniconda3\\envs\\myenv3_12\\Lib\\site-packages\\numpy\\core\\fromnumeric.py:56\u001b[0m, in \u001b[0;36m_wrapfunc\u001b[1;34m(obj, method, *args, **kwds)\u001b[0m\n\u001b[0;32m     54\u001b[0m bound \u001b[39m=\u001b[39m \u001b[39mgetattr\u001b[39m(obj, method, \u001b[39mNone\u001b[39;00m)\n\u001b[0;32m     55\u001b[0m \u001b[39mif\u001b[39;00m bound \u001b[39mis\u001b[39;00m \u001b[39mNone\u001b[39;00m:\n\u001b[1;32m---> 56\u001b[0m     \u001b[39mreturn\u001b[39;00m _wrapit(obj, method, \u001b[39m*\u001b[39;49margs, \u001b[39m*\u001b[39;49m\u001b[39m*\u001b[39;49mkwds)\n\u001b[0;32m     58\u001b[0m \u001b[39mtry\u001b[39;00m:\n\u001b[0;32m     59\u001b[0m     \u001b[39mreturn\u001b[39;00m bound(\u001b[39m*\u001b[39margs, \u001b[39m*\u001b[39m\u001b[39m*\u001b[39mkwds)\n",
      "File \u001b[1;32mc:\\Users\\taaaayaauaaaaaaaaaaa\\miniconda3\\envs\\myenv3_12\\Lib\\site-packages\\numpy\\core\\fromnumeric.py:45\u001b[0m, in \u001b[0;36m_wrapit\u001b[1;34m(obj, method, *args, **kwds)\u001b[0m\n\u001b[0;32m     43\u001b[0m \u001b[39mexcept\u001b[39;00m \u001b[39mAttributeError\u001b[39;00m:\n\u001b[0;32m     44\u001b[0m     wrap \u001b[39m=\u001b[39m \u001b[39mNone\u001b[39;00m\n\u001b[1;32m---> 45\u001b[0m result \u001b[39m=\u001b[39m \u001b[39mgetattr\u001b[39;49m(asarray(obj), method)(\u001b[39m*\u001b[39;49margs, \u001b[39m*\u001b[39;49m\u001b[39m*\u001b[39;49mkwds)\n\u001b[0;32m     46\u001b[0m \u001b[39mif\u001b[39;00m wrap:\n\u001b[0;32m     47\u001b[0m     \u001b[39mif\u001b[39;00m \u001b[39mnot\u001b[39;00m \u001b[39misinstance\u001b[39m(result, mu\u001b[39m.\u001b[39mndarray):\n",
      "\u001b[1;31mValueError\u001b[0m: cannot reshape array of size 1 into shape (4,)"
     ]
    }
   ],
   "source": [
    "arr = np.array([[1,2,6],[3,4,5]])\n",
    "print(arr)\n",
    "\n",
    "reshape = np.reshape(2,4)\n",
    "print(reshape)"
   ]
  },
  {
   "cell_type": "code",
   "execution_count": 29,
   "metadata": {},
   "outputs": [
    {
     "name": "stdout",
     "output_type": "stream",
     "text": [
      "[[[1]\n",
      "  [2]]\n",
      "\n",
      " [[6]\n",
      "  [3]]\n",
      "\n",
      " [[4]\n",
      "  [5]]]\n",
      "3\n"
     ]
    }
   ],
   "source": [
    "arr = np.array([1,2,6,3,4,5])\n",
    "reshape = arr.reshape(3,2,1) #reshape(number_of_rows,number_of_cols,number_of_element)\n",
    "print(reshape)\n",
    "print(reshape.ndim)"
   ]
  },
  {
   "cell_type": "markdown",
   "metadata": {},
   "source": [
    "### Converting to one dimension array from any"
   ]
  },
  {
   "cell_type": "code",
   "execution_count": 36,
   "metadata": {},
   "outputs": [
    {
     "name": "stdout",
     "output_type": "stream",
     "text": [
      "[[[1 2]\n",
      "  [6 3]\n",
      "  [4 5]]\n",
      "\n",
      " [[1 2]\n",
      "  [3 4]\n",
      "  [8 2]]]\n",
      "\n",
      "3\n",
      "\n",
      "[1 2 6 3 4 5 1 2 3 4 8 2]\n",
      "1\n"
     ]
    }
   ],
   "source": [
    "arr = np.array([[[1,2],[6,3],[4,5]],[[1,2],[3,4],[8,2]]])\n",
    "\n",
    "print(arr)\n",
    "print()\n",
    "print(arr.ndim)\n",
    "print()\n",
    "\n",
    "reshape = arr.reshape(-1) # convert directly to one dimension array\n",
    "print(reshape)\n",
    "print(reshape.ndim)"
   ]
  },
  {
   "cell_type": "markdown",
   "metadata": {},
   "source": [
    "## Boolean Slicing"
   ]
  },
  {
   "cell_type": "code",
   "execution_count": 9,
   "metadata": {},
   "outputs": [
    {
     "name": "stdout",
     "output_type": "stream",
     "text": [
      "[False False  True False False False  True  True  True False  True]\n",
      "[ 50   6 464 734 346]\n"
     ]
    }
   ],
   "source": [
    "import numpy as np\n",
    "array1 = np.array([1,3,50,923,25,23,6,464,734,7,346])\n",
    "boolArray = array1 % 2 == 0\n",
    "print(boolArray)\n",
    "print(array1[boolArray])"
   ]
  },
  {
   "cell_type": "code",
   "execution_count": 15,
   "metadata": {},
   "outputs": [
    {
     "name": "stdout",
     "output_type": "stream",
     "text": [
      "[[False  True False]\n",
      " [ True False  True]\n",
      " [False  True False]]\n",
      "=============\n",
      "[2 4 6 8]\n",
      "=============\n",
      "[[1 0 3]\n",
      " [0 5 0]\n",
      " [7 0 9]]\n"
     ]
    }
   ],
   "source": [
    "import numpy as np\n",
    "\n",
    "array2d = np.array([\n",
    "    [1,2,3],\n",
    "    [4,5,6],\n",
    "    [7,8,9]\n",
    "    ])\n",
    "\n",
    "\n",
    "b_array = array2d % 2 == 0\n",
    "print(b_array)\n",
    "print(\"=============\")\n",
    "print(array2d[b_array])\n",
    "print(\"=============\")\n",
    "\n",
    "arr2d = array2d.copy()\n",
    "arr2d[b_array] = 0\n",
    "print(arr2d)"
   ]
  },
  {
   "cell_type": "code",
   "execution_count": 19,
   "metadata": {},
   "outputs": [
    {
     "name": "stdout",
     "output_type": "stream",
     "text": [
      "[139  42   8 124 187]\n"
     ]
    }
   ],
   "source": [
    "# Random Integers\n",
    "import numpy as np\n",
    "rndm = np.random.randint(0,200,5) #(start,end,total_numbers_to_generate)\n",
    "print(rndm)\n"
   ]
  },
  {
   "cell_type": "markdown",
   "metadata": {},
   "source": [
    "#### in1d Function"
   ]
  },
  {
   "cell_type": "code",
   "execution_count": 2,
   "metadata": {},
   "outputs": [
    {
     "name": "stdout",
     "output_type": "stream",
     "text": [
      "[0 1 2 3 4 5 6 7 8 9]\n",
      "[0 1 7 5 3 5 1 3 2 6]\n"
     ]
    },
    {
     "data": {
      "text/plain": [
       "array([0, 1, 2, 3, 5, 6, 7])"
      ]
     },
     "execution_count": 2,
     "metadata": {},
     "output_type": "execute_result"
    }
   ],
   "source": [
    "import numpy as np\n",
    "\n",
    "arr1 = np.arange(10)\n",
    "arr2 = np.random.randint(0,10,10)\n",
    "\n",
    "print(arr1)\n",
    "print(arr2)\n",
    "\n",
    "#in1d --> Returns a boolean array the same length as ar1 that is True\n",
    "# where an element of ar1 is in ar2 and False otherwise.\n",
    "arr1[np.in1d(arr1,arr2)]"
   ]
  },
  {
   "cell_type": "markdown",
   "metadata": {},
   "source": [
    "#### intersect1d function"
   ]
  },
  {
   "cell_type": "code",
   "execution_count": 6,
   "metadata": {},
   "outputs": [
    {
     "name": "stdout",
     "output_type": "stream",
     "text": [
      "[0 1 2 3 4 5 6 7 8 9]\n",
      "[6 5 4 8 7 6 6 5 4 6]\n",
      "[4 5 6 7 8]\n"
     ]
    }
   ],
   "source": [
    "import numpy as np\n",
    "\n",
    "arr1 = np.arange(10)\n",
    "arr2 = np.random.randint(0,10,10)\n",
    "\n",
    "print(arr1)\n",
    "print(arr2)\n",
    "\n",
    "# intersect1d -------> Find the intersection of two arrays.\n",
    "arr3 = np.intersect1d(arr1,arr2)\n",
    "print(arr3)"
   ]
  },
  {
   "cell_type": "markdown",
   "metadata": {},
   "source": [
    "#### np.where(), np.ones(), np.zeros(), and np.ones_like()."
   ]
  },
  {
   "cell_type": "code",
   "execution_count": 9,
   "metadata": {},
   "outputs": [
    {
     "name": "stdout",
     "output_type": "stream",
     "text": [
      "(array([ 7,  8,  9, 10, 11], dtype=int64),)\n",
      "======================\n"
     ]
    },
    {
     "data": {
      "text/plain": [
       "array([ 2,  5,  9,  8, 10])"
      ]
     },
     "execution_count": 9,
     "metadata": {},
     "output_type": "execute_result"
    }
   ],
   "source": [
    "import numpy as np\n",
    "\n",
    "a = np.arange(12)\n",
    "\n",
    "b = np.where(a>6)\n",
    "print(b)\n",
    "\n",
    "print(\"======================\")\n",
    "\n",
    "arr1 = np.array([1,2,5,8,10])\n",
    "arr2 = np.array([2,5,9,3,7])\n",
    "\n",
    "np.where(arr1>arr2,arr1,arr2)"
   ]
  },
  {
   "cell_type": "code",
   "execution_count": 10,
   "metadata": {},
   "outputs": [
    {
     "name": "stdout",
     "output_type": "stream",
     "text": [
      "Name            Shape            Bytes            Type\n",
      "===========================================================\n",
      "\n",
      "_               5                20               int32\n",
      "a               12               48               int32\n",
      "arr1            5                20               int32\n",
      "arr2            5                20               int32\n",
      "_9 (_)          5                20               int32\n",
      "\n",
      "Upper bound on total bytes  =       108\n"
     ]
    }
   ],
   "source": [
    "np.who()"
   ]
  },
  {
   "cell_type": "code",
   "execution_count": 14,
   "metadata": {},
   "outputs": [
    {
     "name": "stdout",
     "output_type": "stream",
     "text": [
      "[[ 0  1  2]\n",
      " [ 3  4  5]\n",
      " [ 6  7  8]\n",
      " [ 9 10 11]]\n",
      "========================\n",
      "[[ 0  1  2]\n",
      " [ 3  4  5]\n",
      " [ 6  7  8]\n",
      " [ 9 10 11]\n",
      " [12 13 14]\n",
      " [15 16 17]]\n"
     ]
    }
   ],
   "source": [
    "import numpy as np\n",
    "\n",
    "a = np.arange(4*3).reshape(4,3)\n",
    "b = np.arange(6*3).reshape(6,3)\n",
    "print(a)\n",
    "print(\"========================\")\n",
    "print(b)"
   ]
  },
  {
   "cell_type": "code",
   "execution_count": 25,
   "metadata": {},
   "outputs": [
    {
     "name": "stdout",
     "output_type": "stream",
     "text": [
      "[0. 0. 0. 0.]\n",
      "=========================\n",
      "[[0. 0. 0. 0.]\n",
      " [0. 0. 0. 0.]\n",
      " [0. 0. 0. 0.]]\n",
      "=========================\n",
      "[[[0. 0. 0.]\n",
      "  [0. 0. 0.]\n",
      "  [0. 0. 0.]\n",
      "  [0. 0. 0.]]\n",
      "\n",
      " [[0. 0. 0.]\n",
      "  [0. 0. 0.]\n",
      "  [0. 0. 0.]\n",
      "  [0. 0. 0.]]]\n",
      "=========================\n",
      "[[1. 1. 1. 1.]\n",
      " [1. 1. 1. 1.]\n",
      " [1. 1. 1. 1.]]\n",
      "=========================\n",
      "[0 0]\n",
      "=========================\n",
      "[1 1]\n"
     ]
    }
   ],
   "source": [
    "import numpy as np\n",
    "\n",
    "a = np.zeros(4) # Single Dimension\n",
    "b = np.zeros((3,4)) # Two Dimension\n",
    "c = np.zeros((2,4,3)) # Three Dimension\n",
    "d = np.ones((3,4))\n",
    "e = np.zeros_like((2,5))\n",
    "f = np.ones_like((3,4))\n",
    "print(a)\n",
    "print(\"=========================\")\n",
    "print(b)\n",
    "print(\"=========================\")\n",
    "print(c)\n",
    "print(\"=========================\")\n",
    "print(d)\n",
    "print(\"=========================\")\n",
    "print(e)\n",
    "print(\"=========================\")\n",
    "print(f)"
   ]
  },
  {
   "cell_type": "code",
   "execution_count": 37,
   "metadata": {},
   "outputs": [
    {
     "name": "stdout",
     "output_type": "stream",
     "text": [
      "[ 1  2  3  4  5  6  7  8  9 10 11 12 13 14 15 16 17 18 19 20]\n",
      "1\n",
      "20\n",
      "0\n",
      "19\n",
      "10.5\n",
      "5.766281297335398\n",
      "210\n",
      "[  1   3   6  10  15  21  28  36  45  55  66  78  91 105 120 136 153 171\n",
      " 190 210]\n"
     ]
    }
   ],
   "source": [
    "import numpy as np\n",
    "\n",
    "arr = np.arange(1,21)\n",
    "\n",
    "print(arr)\n",
    "print(arr.min())\n",
    "print(arr.max())\n",
    "print(arr.argmin())\n",
    "print(arr.argmax())\n",
    "print(arr.mean()) # To find Mean of the data\n",
    "print(arr.std()) # Compute the standard deviation of the function\n",
    "print(arr.sum())\n",
    "print(arr.cumsum()) "
   ]
  }
 ],
 "metadata": {
  "kernelspec": {
   "display_name": "myenv3_12",
   "language": "python",
   "name": "python3"
  },
  "language_info": {
   "codemirror_mode": {
    "name": "ipython",
    "version": 3
   },
   "file_extension": ".py",
   "mimetype": "text/x-python",
   "name": "python",
   "nbconvert_exporter": "python",
   "pygments_lexer": "ipython3",
   "version": "3.12.0"
  }
 },
 "nbformat": 4,
 "nbformat_minor": 2
}
