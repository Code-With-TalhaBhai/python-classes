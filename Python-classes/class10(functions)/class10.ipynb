{
 "cells": [
  {
   "cell_type": "markdown",
   "metadata": {},
   "source": [
    "# Function\n",
    "* Pre-define function\n",
    "    * provided by in language\n",
    "* User-define function\n",
    "    * Custom function\n",
    "\n",
    "## components\n",
    "* function declaration\n",
    "* function body\n",
    "* function calling\n",
    "\n",
    "### Syntax function\n",
    "```\n",
    "def function_name(param1:type,param2:type,...)->Return_type:\n",
    "    function_body\n",
    "\n",
    "\n",
    "function_name(p1,p2,...)\n",
    "```\n",
    "\n",
    "### Syntax lambda function\n",
    "\n",
    "* One-line function\n",
    "* Without name\n",
    "* Only use in this line\n",
    "\n",
    "```\n",
    "    lambda param1,param2 : function_body\n",
    "```"
   ]
  },
  {
   "cell_type": "markdown",
   "metadata": {},
   "source": [
    "# Pre-defined Functions\n",
    "\n",
    "* print\n",
    "* len\n",
    "* id \n",
    "* dir\n",
    "* chr\n",
    "* ord\n",
    "* exec"
   ]
  },
  {
   "cell_type": "markdown",
   "metadata": {},
   "source": [
    "Return and None-Return Function"
   ]
  },
  {
   "cell_type": "code",
   "execution_count": 1,
   "metadata": {},
   "outputs": [
    {
     "name": "stdout",
     "output_type": "stream",
     "text": [
      "Pakistan\n"
     ]
    },
    {
     "data": {
      "text/plain": [
       "'Pakistan'"
      ]
     },
     "metadata": {},
     "output_type": "display_data"
    }
   ],
   "source": [
    "a : str = \"Pakistan\"\n",
    "print(a)\n",
    "display(a)"
   ]
  },
  {
   "cell_type": "code",
   "execution_count": 2,
   "metadata": {},
   "outputs": [
    {
     "name": "stdout",
     "output_type": "stream",
     "text": [
      "8\n"
     ]
    },
    {
     "data": {
      "text/plain": [
       "8"
      ]
     },
     "metadata": {},
     "output_type": "display_data"
    },
    {
     "data": {
      "text/plain": [
       "140735406570136"
      ]
     },
     "metadata": {},
     "output_type": "display_data"
    }
   ],
   "source": [
    "a : int = len(\"pakistan\");\n",
    "print(a)\n",
    "display(a)"
   ]
  },
  {
   "cell_type": "code",
   "execution_count": 3,
   "metadata": {},
   "outputs": [
    {
     "data": {
      "text/plain": [
       "140735406570136"
      ]
     },
     "metadata": {},
     "output_type": "display_data"
    },
    {
     "data": {
      "text/plain": [
       "140735406570136"
      ]
     },
     "metadata": {},
     "output_type": "display_data"
    },
    {
     "data": {
      "text/plain": [
       "140735406570200"
      ]
     },
     "metadata": {},
     "output_type": "display_data"
    },
    {
     "data": {
      "text/plain": [
       "140735406570136"
      ]
     },
     "metadata": {},
     "output_type": "display_data"
    }
   ],
   "source": [
    "a : int = 8\n",
    "b : int = 8\n",
    "c : int = 10\n",
    "d : int = b\n",
    "\n",
    "display(id(a))\n",
    "display(id(b))\n",
    "display(id(c))\n",
    "display(id(d))"
   ]
  },
  {
   "cell_type": "code",
   "execution_count": 8,
   "metadata": {},
   "outputs": [
    {
     "data": {
      "text/plain": [
       "'N'"
      ]
     },
     "metadata": {},
     "output_type": "display_data"
    },
    {
     "data": {
      "text/plain": [
       "'A'"
      ]
     },
     "metadata": {},
     "output_type": "display_data"
    }
   ],
   "source": [
    "# Prints ASCII value of the character\n",
    "num1 : int = 78;\n",
    "num2 : int = 65;\n",
    "display(chr(num1))\n",
    "display(chr(num2))"
   ]
  },
  {
   "cell_type": "code",
   "execution_count": 15,
   "metadata": {},
   "outputs": [
    {
     "data": {
      "text/plain": [
       "36"
      ]
     },
     "metadata": {},
     "output_type": "display_data"
    },
    {
     "data": {
      "text/plain": [
       "98"
      ]
     },
     "metadata": {},
     "output_type": "display_data"
    },
    {
     "data": {
      "text/plain": [
       "37"
      ]
     },
     "metadata": {},
     "output_type": "display_data"
    },
    {
     "data": {
      "text/plain": [
       "96"
      ]
     },
     "metadata": {},
     "output_type": "display_data"
    },
    {
     "data": {
      "text/plain": [
       "8364"
      ]
     },
     "metadata": {},
     "output_type": "display_data"
    }
   ],
   "source": [
    "# Returns Unicode of the given character range (0-65535)\n",
    "a : str = '$'\n",
    "b : str = 'b'\n",
    "c : str = '%'\n",
    "d : str = '`'\n",
    "e : str = '€'\n",
    "\n",
    "display(ord(a))\n",
    "display(ord(b))\n",
    "display(ord(c))\n",
    "display(ord(d))\n",
    "display(ord(e))"
   ]
  },
  {
   "cell_type": "code",
   "execution_count": 16,
   "metadata": {},
   "outputs": [
    {
     "data": {
      "text/plain": [
       "['__abs__',\n",
       " '__add__',\n",
       " '__and__',\n",
       " '__bool__',\n",
       " '__ceil__',\n",
       " '__class__',\n",
       " '__delattr__',\n",
       " '__dir__',\n",
       " '__divmod__',\n",
       " '__doc__',\n",
       " '__eq__',\n",
       " '__float__',\n",
       " '__floor__',\n",
       " '__floordiv__',\n",
       " '__format__',\n",
       " '__ge__',\n",
       " '__getattribute__',\n",
       " '__getnewargs__',\n",
       " '__getstate__',\n",
       " '__gt__',\n",
       " '__hash__',\n",
       " '__index__',\n",
       " '__init__',\n",
       " '__init_subclass__',\n",
       " '__int__',\n",
       " '__invert__',\n",
       " '__le__',\n",
       " '__lshift__',\n",
       " '__lt__',\n",
       " '__mod__',\n",
       " '__mul__',\n",
       " '__ne__',\n",
       " '__neg__',\n",
       " '__new__',\n",
       " '__or__',\n",
       " '__pos__',\n",
       " '__pow__',\n",
       " '__radd__',\n",
       " '__rand__',\n",
       " '__rdivmod__',\n",
       " '__reduce__',\n",
       " '__reduce_ex__',\n",
       " '__repr__',\n",
       " '__rfloordiv__',\n",
       " '__rlshift__',\n",
       " '__rmod__',\n",
       " '__rmul__',\n",
       " '__ror__',\n",
       " '__round__',\n",
       " '__rpow__',\n",
       " '__rrshift__',\n",
       " '__rshift__',\n",
       " '__rsub__',\n",
       " '__rtruediv__',\n",
       " '__rxor__',\n",
       " '__setattr__',\n",
       " '__sizeof__',\n",
       " '__str__',\n",
       " '__sub__',\n",
       " '__subclasshook__',\n",
       " '__truediv__',\n",
       " '__trunc__',\n",
       " '__xor__',\n",
       " 'as_integer_ratio',\n",
       " 'bit_count',\n",
       " 'bit_length',\n",
       " 'conjugate',\n",
       " 'denominator',\n",
       " 'from_bytes',\n",
       " 'imag',\n",
       " 'is_integer',\n",
       " 'numerator',\n",
       " 'real',\n",
       " 'to_bytes']"
      ]
     },
     "execution_count": 16,
     "metadata": {},
     "output_type": "execute_result"
    }
   ],
   "source": [
    "# Returns all built-in methods of built-in data-types(int,str)\n",
    "a : int = 234;\n",
    "dir(a)"
   ]
  },
  {
   "cell_type": "code",
   "execution_count": 20,
   "metadata": {},
   "outputs": [
    {
     "data": {
      "text/plain": [
       "['as_integer_ratio',\n",
       " 'bit_count',\n",
       " 'bit_length',\n",
       " 'conjugate',\n",
       " 'denominator',\n",
       " 'from_bytes',\n",
       " 'imag',\n",
       " 'is_integer',\n",
       " 'numerator',\n",
       " 'real',\n",
       " 'to_bytes']"
      ]
     },
     "execution_count": 20,
     "metadata": {},
     "output_type": "execute_result"
    }
   ],
   "source": [
    "num : int = 324;\n",
    "[x for x in dir(num) if \"__\" not in x]"
   ]
  },
  {
   "cell_type": "markdown",
   "metadata": {},
   "source": [
    "### Simple Function"
   ]
  },
  {
   "cell_type": "code",
   "execution_count": 1,
   "metadata": {},
   "outputs": [
    {
     "name": "stdout",
     "output_type": "stream",
     "text": [
      "Simple function\n",
      "Simple function working\n"
     ]
    }
   ],
   "source": [
    "def func()->None:\n",
    "    print('Simple function')\n",
    "    print('Simple function working')\n",
    "\n",
    "func()"
   ]
  },
  {
   "cell_type": "markdown",
   "metadata": {},
   "source": [
    "## Arguments"
   ]
  },
  {
   "cell_type": "markdown",
   "metadata": {},
   "source": [
    "#### Positional Arguments"
   ]
  },
  {
   "cell_type": "code",
   "execution_count": 2,
   "metadata": {},
   "outputs": [
    {
     "name": "stdout",
     "output_type": "stream",
     "text": [
      "The multiple of 5 and 6 is: 30\n"
     ]
    },
    {
     "data": {
      "text/plain": [
       "30"
      ]
     },
     "execution_count": 2,
     "metadata": {},
     "output_type": "execute_result"
    }
   ],
   "source": [
    "def multiple(num1:int,num2:int)->int:\n",
    "    print(f'The multiple of {num1} and {num2} is: {num1*num2}')\n",
    "    return num1 * num2\n",
    "\n",
    "multiple(5,6)"
   ]
  },
  {
   "cell_type": "markdown",
   "metadata": {},
   "source": [
    "#### Named Arguments"
   ]
  },
  {
   "cell_type": "code",
   "execution_count": 3,
   "metadata": {},
   "outputs": [
    {
     "name": "stdout",
     "output_type": "stream",
     "text": [
      "The multiple of 6 and 5 is 30\n"
     ]
    },
    {
     "data": {
      "text/plain": [
       "30"
      ]
     },
     "execution_count": 3,
     "metadata": {},
     "output_type": "execute_result"
    }
   ],
   "source": [
    "def multiple(num1:int,num2:int)->int:\n",
    "    print(f\"The multiple of {num1} and {num2} is {num1 * num2}\")\n",
    "    return num1 * num2\n",
    "\n",
    "multiple(num2=5,num1=6)"
   ]
  },
  {
   "cell_type": "markdown",
   "metadata": {},
   "source": [
    "#### Optional Parameters"
   ]
  },
  {
   "cell_type": "code",
   "execution_count": 1,
   "metadata": {},
   "outputs": [
    {
     "name": "stdout",
     "output_type": "stream",
     "text": [
      "The addition of 43 + 0 = 43\n",
      "The addition of 345 + 543 = 888\n"
     ]
    },
    {
     "data": {
      "text/plain": [
       "888"
      ]
     },
     "execution_count": 1,
     "metadata": {},
     "output_type": "execute_result"
    }
   ],
   "source": [
    "def optional_addition(a:int,b:int=0)->int:\n",
    "    print(f\"The addition of {a} + {b} = {a+b}\")\n",
    "    return  a + b\n",
    "\n",
    "optional_addition(43)\n",
    "optional_addition(345,543)"
   ]
  },
  {
   "cell_type": "markdown",
   "metadata": {},
   "source": [
    "### Syntax Lambda Function\n",
    "\n",
    "`lambda param1,param2 : function_body`"
   ]
  },
  {
   "cell_type": "code",
   "execution_count": 2,
   "metadata": {},
   "outputs": [
    {
     "data": {
      "text/plain": [
       "76"
      ]
     },
     "execution_count": 2,
     "metadata": {},
     "output_type": "execute_result"
    }
   ],
   "source": [
    "sum = lambda num1,num2 : num1 + num2\n",
    "sum(23,53)"
   ]
  },
  {
   "cell_type": "markdown",
   "metadata": {},
   "source": [
    "##### Lambda Typing"
   ]
  },
  {
   "cell_type": "code",
   "execution_count": 1,
   "metadata": {},
   "outputs": [
    {
     "data": {
      "text/plain": [
       "287"
      ]
     },
     "execution_count": 1,
     "metadata": {},
     "output_type": "execute_result"
    }
   ],
   "source": [
    "from typing import Callable\n",
    "sum : Callable[[int,int],int] = lambda num1,num2 : num1 + num2\n",
    "sum(234,53)"
   ]
  },
  {
   "cell_type": "code",
   "execution_count": 4,
   "metadata": {},
   "outputs": [
    {
     "name": "stdout",
     "output_type": "stream",
     "text": [
      "[2, 4, 6, 8, 10, 12, 14, 16, 18, 20]\n",
      "[1, 4, 9, 16, 25, 36, 49, 64, 81, 100]\n"
     ]
    }
   ],
   "source": [
    "from typing import List\n",
    "arr : List[int] = [1,2,3,4,5,6,7,8,9,10]\n",
    "def func(element:int)->int:\n",
    "    return element*2\n",
    "\n",
    "# double_arr = map(func,arr)\n",
    "double_arr : List[int] = list(map(func,arr))\n",
    "square_arr : List[int] = list(map(lambda element: element**2,arr))\n",
    "print(double_arr)\n",
    "print(square_arr)"
   ]
  },
  {
   "cell_type": "code",
   "execution_count": 4,
   "metadata": {},
   "outputs": [
    {
     "name": "stdout",
     "output_type": "stream",
     "text": [
      "[2, 4, 6, 8, 10]\n",
      "[2, 4, 6, 8, 10]\n"
     ]
    }
   ],
   "source": [
    "arr : list[int] = [1,2,3,4,5,6,7,8,9,10]\n",
    "def func(element):\n",
    "   # return element%2==0\n",
    "   if(element%2==0):\n",
    "      return element \n",
    "   else:\n",
    "      return False\n",
    "\n",
    "filtered_arr : list[int] = list(filter(func,arr))\n",
    "filtered_arr1 : list[int] = list(filter(lambda element : element%2==0,arr))\n",
    "print(filtered_arr)\n",
    "print(filtered_arr1)"
   ]
  },
  {
   "cell_type": "code",
   "execution_count": 8,
   "metadata": {},
   "outputs": [
    {
     "name": "stdout",
     "output_type": "stream",
     "text": [
      "55\n",
      "3628800\n"
     ]
    }
   ],
   "source": [
    "import functools\n",
    "arr : list[int] = [1,2,3,4,5,6,7,8,9,10]\n",
    "def func(total,curr):\n",
    "    return total + curr\n",
    "\n",
    "arr_sum : int = functools.reduce(func,arr)\n",
    "arr_mul : int = functools.reduce(lambda total,curr : total*curr,arr)\n",
    "print(arr_sum)\n",
    "print(arr_mul)"
   ]
  },
  {
   "cell_type": "code",
   "execution_count": 3,
   "metadata": {},
   "outputs": [
    {
     "name": "stdout",
     "output_type": "stream",
     "text": [
      "<filter object at 0x000001D4E7716A70>\n",
      "0\n",
      "2\n",
      "4\n"
     ]
    }
   ],
   "source": [
    "from typing import Iterable\n",
    "data : Iterable[int] = filter(lambda x : x%2==0,range(0,51))\n",
    "print(next(data))\n",
    "print(next(data))\n",
    "print(next(data))"
   ]
  },
  {
   "cell_type": "markdown",
   "metadata": {},
   "source": [
    "# Generator Function\n",
    "\n",
    "* iterate on element one-by-one\n",
    "* stop after each iteration\n",
    "* remember old iteration value (last iterate value)\n",
    "* next iterate\n",
    "    * go forward from last iterate value"
   ]
  },
  {
   "cell_type": "code",
   "execution_count": 9,
   "metadata": {},
   "outputs": [
    {
     "name": "stdout",
     "output_type": "stream",
     "text": [
      "<class 'generator'>\n",
      "<generator object my_range at 0x000002788705D620>\n"
     ]
    },
    {
     "data": {
      "text/plain": [
       "[0, 1, 2, 3, 4, 5, 6, 7, 8, 9, 10, 11, 12, 13, 14]"
      ]
     },
     "execution_count": 9,
     "metadata": {},
     "output_type": "execute_result"
    }
   ],
   "source": [
    "from typing import Iterator,Generator\n",
    "# Generator Function\n",
    "\n",
    "# Generator Typing-> The type hint Generator[int, None, None] specifies that the generator yields integers (int type) and doesn't receive any input parameters (None) or return a final value (None).\n",
    "# def my_range(start:int,end:int,step:int=1)->Generator[int,None,None]:\n",
    "def my_range(start:int,end:int,step:int=1)->Iterator[int]:\n",
    "    for i in range(start,end):\n",
    "        yield i  # Generator Function\n",
    "\n",
    "a = my_range(0,15)\n",
    "print(type(a))\n",
    "print(a)\n",
    "list(a)"
   ]
  },
  {
   "cell_type": "markdown",
   "metadata": {},
   "source": [
    "### Abstract Base Class\n",
    "https://docs.python.org/3/library/collections.abc.html"
   ]
  },
  {
   "cell_type": "code",
   "execution_count": 2,
   "metadata": {},
   "outputs": [
    {
     "name": "stdout",
     "output_type": "stream",
     "text": [
      "0\n",
      "1\n",
      "2\n"
     ]
    }
   ],
   "source": [
    "# Generator Function Typing\n",
    "# abc -> Abstract Base Class\n",
    "# from collections.abc import Iterator\n",
    "from typing import Iterator\n",
    "def my_range(start:int,end:int,step:int=1)->Iterator[int]:\n",
    "    for i in range(start,end):\n",
    "        yield i\n",
    "\n",
    "iter_var = my_range(0,8)    \n",
    "# print(iter_var)\n",
    "\n",
    "print(next(iter_var))\n",
    "print(next(iter_var))\n",
    "print(next(iter_var))\n",
    "\n",
    "# for val in iter_var:\n",
    "#     print(val)"
   ]
  },
  {
   "cell_type": "markdown",
   "metadata": {},
   "source": [
    "## Iterable vs Iterator\n",
    "\n",
    "### Iterable\n",
    "* An Iterable is any object capable of returning its members one at a time.\n",
    "* It doesn’t have the __next__() method.\n",
    "* It must implement the __iter__() method that returns an Iterator.\n",
    "* Examples of iterables include `lists`, `tuples`, `sets`, `dictionaries`, `strings` etc.\n",
    "\n",
    "### Iterator\n",
    "* An Iterator is an object representing a stream of data. It maintains state to remember where it is during iteration.\n",
    "* It implements the __next__() method, which allows fetching the next element in the sequence.\n",
    "* It also implements the __iter__() method, which returns itself.\n",
    "* Iterators are used to iterate over an Iterable.\n",
    "* Examples of iterators include the result of iter() function called on an  `iterable`, `zip()`, `enumerate()`, etc.\n"
   ]
  },
  {
   "cell_type": "markdown",
   "metadata": {},
   "source": [
    "## Unlimited Arguments"
   ]
  },
  {
   "cell_type": "code",
   "execution_count": 5,
   "metadata": {},
   "outputs": [
    {
     "name": "stdout",
     "output_type": "stream",
     "text": [
      "All nums:  (1, 2, 3, 4, 5, 6, 7, 8, 9, 10)\n",
      "Nums type:  <class 'tuple'>\n",
      "55\n"
     ]
    }
   ],
   "source": [
    "\n",
    "def func(*nums:int)->int:\n",
    "    print('All nums: ',nums)\n",
    "    print('Nums type: ',type(nums))\n",
    "    total = 0\n",
    "    for n in nums:\n",
    "        total += n\n",
    "\n",
    "    return total\n",
    "\n",
    "a = func(1,2,3,4,5,6,7,8,9,10)\n",
    "print(a)"
   ]
  },
  {
   "cell_type": "code",
   "execution_count": 4,
   "metadata": {},
   "outputs": [
    {
     "name": "stdout",
     "output_type": "stream",
     "text": [
      "1\n",
      "2\n",
      "3\n",
      "4\n",
      "5\n",
      "6\n",
      "7\n",
      "8\n",
      "9\n",
      "10\n"
     ]
    }
   ],
   "source": [
    "from typing import Tuple\n",
    "# tup : Tuple[int,int,int,int,int,int,int,int,int,int] = (1, 2, 3, 4, 5, 6, 7, 8, 9, 10)\n",
    "tup : Tuple[int,...] = (1, 2, 3, 4, 5, 6, 7, 8, 9, 10)\n",
    "\n",
    "for t in tup:\n",
    "    print(t)"
   ]
  },
  {
   "cell_type": "code",
   "execution_count": 8,
   "metadata": {},
   "outputs": [
    {
     "name": "stdout",
     "output_type": "stream",
     "text": [
      "type <class 'tuple'>\n",
      "Hi Talha, You are Welcome\n",
      "Hi Aryaan, You are Welcome\n",
      "Hi Taha, You are Welcome\n",
      "Hi Ali, You are Welcome\n",
      "Hi Ahmed, You are Welcome\n"
     ]
    }
   ],
   "source": [
    "# Unlimited Arguments typing\n",
    "from typing import Iterable\n",
    "def greetings(*people: Iterable[str]) -> None:\n",
    "    print('type',type(people))\n",
    "    for person in people:\n",
    "        print(f\"Hi {person}, You are Welcome\")\n",
    "\n",
    "\n",
    "greetings(\"Talha\",\"Aryaan\",\"Taha\",\"Ali\",\"Ahmed\")"
   ]
  },
  {
   "cell_type": "markdown",
   "metadata": {},
   "source": [
    "### Unlimited Named Keyword Arguments"
   ]
  },
  {
   "cell_type": "code",
   "execution_count": 17,
   "metadata": {},
   "outputs": [
    {
     "name": "stdout",
     "output_type": "stream",
     "text": [
      "Arguments:  {'a': 'Talha', 'b': 'Bhai'}\n",
      "Type:  <class 'dict'>\n"
     ]
    }
   ],
   "source": [
    "from typing import Dict\n",
    "def func(**kwargs:str)->None:\n",
    "    print('Arguments: ',kwargs)\n",
    "    print('Type: ',type(kwargs))\n",
    "\n",
    "func(a='Talha',b='Bhai')"
   ]
  },
  {
   "cell_type": "code",
   "execution_count": 2,
   "metadata": {},
   "outputs": [
    {
     "name": "stdout",
     "output_type": "stream",
     "text": [
      "1 <class 'int'>\n",
      "working <class 'str'>\n",
      "(23, 234, '52', 56323, 52523) <class 'tuple'>\n",
      "{'y': 'Programming', 'z': 'Hobby'} <class 'dict'>\n"
     ]
    }
   ],
   "source": [
    "from typing import Iterable,Union\n",
    "def func(a:int,b:str,*args:Union[int,Iterable[str]],**kwargs:str)->None:\n",
    "    print(a,type(a))\n",
    "    print(b,type(b))\n",
    "    print(args,type(args))\n",
    "    print(kwargs,type(kwargs))\n",
    "\n",
    "func(1,'working',23,234,'52',56323,52523,y=\"Programming\",z=\"Hobby\")\n",
    "\n",
    "\n",
    "# typing left"
   ]
  },
  {
   "cell_type": "markdown",
   "metadata": {},
   "source": [
    "## Decorators"
   ]
  },
  {
   "cell_type": "code",
   "execution_count": 4,
   "metadata": {},
   "outputs": [
    {
     "name": "stdout",
     "output_type": "stream",
     "text": [
      "Starting making function pretty\n",
      "I am ordinary function\n",
      "Ending making pretty function\n"
     ]
    }
   ],
   "source": [
    "def pretty(func):\n",
    "    def inner():\n",
    "        print('Starting making function pretty')\n",
    "        func()\n",
    "        print('Ending making pretty function')\n",
    "\n",
    "    return inner\n",
    "\n",
    "@pretty\n",
    "def ordinary():\n",
    "    print(\"I am ordinary function\")\n",
    "\n",
    "ordinary()"
   ]
  },
  {
   "cell_type": "code",
   "execution_count": 9,
   "metadata": {},
   "outputs": [
    {
     "name": "stdout",
     "output_type": "stream",
     "text": [
      "Starting making function pretty without decorators\n",
      "talha I am ordinary function\n",
      "Ending making pretty function without decorators\n",
      "\n",
      "Starting making function pretty with decorators\n",
      "I am ordinary function\n",
      "Ending making pretty function with decorators\n"
     ]
    }
   ],
   "source": [
    "# For analogy --> Same function output without decorators\n",
    "\n",
    "def pretty(func):\n",
    "    def inner(name):\n",
    "        print('Starting making function pretty without decorators')\n",
    "        func(name)\n",
    "        print('Ending making pretty function without decorators')\n",
    "    return inner\n",
    "\n",
    "def ordinary(name):\n",
    "    print(f\"{name} I am ordinary function\")\n",
    "\n",
    "without_decorator = pretty(ordinary)\n",
    "without_decorator('talha')\n",
    "\n",
    "print()\n",
    "\n",
    "def dec_pretty(func):\n",
    "    def inner():\n",
    "        print('Starting making function pretty with decorators')\n",
    "        func()\n",
    "        print('Ending making pretty function with decorators')\n",
    "\n",
    "    return inner\n",
    "\n",
    "@dec_pretty\n",
    "def dec_ordinary():\n",
    "    print(\"I am ordinary function\")\n",
    "\n",
    "dec_ordinary()"
   ]
  },
  {
   "cell_type": "markdown",
   "metadata": {},
   "source": [
    "### Decorators with typing"
   ]
  },
  {
   "cell_type": "code",
   "execution_count": 3,
   "metadata": {},
   "outputs": [
    {
     "name": "stdout",
     "output_type": "stream",
     "text": [
      "Before function calling\n",
      "Hi, Talha, Hope you are good\n",
      "After function calling\n"
     ]
    }
   ],
   "source": [
    "from typing import Callable\n",
    "\n",
    "def my_decorators(func:Callable[[str],None])->Callable[[str],None]:     \n",
    "    def wrapper(name:str)->None:\n",
    "        print('Before function calling')\n",
    "        func(name)\n",
    "        print('After function calling')\n",
    "\n",
    "    return wrapper\n",
    "\n",
    "@my_decorators\n",
    "def sayHello(name:str)->None:\n",
    "    print(f\"Hi, {name}, Hope you are good\")\n",
    "\n",
    "sayHello('Talha')"
   ]
  },
  {
   "cell_type": "markdown",
   "metadata": {},
   "source": [
    "## Higher Order Functions\n",
    "\n",
    "`A higher order function is a function that takes one or more functions as arguments, or returns a function as its result.`"
   ]
  },
  {
   "cell_type": "code",
   "execution_count": 2,
   "metadata": {},
   "outputs": [
    {
     "name": "stdout",
     "output_type": "stream",
     "text": [
      "16\n",
      "16\n"
     ]
    }
   ],
   "source": [
    "from typing import Callable\n",
    "\n",
    "def ho_func(func:Callable[[int],int],value:int)->int:\n",
    "    return func(value)\n",
    "\n",
    "def inner(x:int)->int:\n",
    "    return x * 2\n",
    "\n",
    "result1 = ho_func(inner,8) # Same as below\n",
    "result2 = ho_func(lambda x : x * 2,8)\n",
    "print(result1)\n",
    "print(result2)"
   ]
  },
  {
   "cell_type": "markdown",
   "metadata": {},
   "source": [
    "## Closures\n",
    "\n",
    "`In Python, a closure refers to a technique in which a nested or inner function has access to the variables in its enclosing (outer) function's scope, even after the outer function has finished executing. This allows the inner function to \"remember\" and retain the values of those variables.`"
   ]
  },
  {
   "cell_type": "code",
   "execution_count": 1,
   "metadata": {},
   "outputs": [
    {
     "data": {
      "text/plain": [
       "8"
      ]
     },
     "execution_count": 1,
     "metadata": {},
     "output_type": "execute_result"
    }
   ],
   "source": [
    "from typing import Callable\n",
    "def outer(x:int)->Callable[[int],int]:\n",
    "    def inner(y:int):\n",
    "        return x + y\n",
    "    return inner\n",
    "\n",
    "closures = outer(5)\n",
    "closures(3)"
   ]
  },
  {
   "cell_type": "markdown",
   "metadata": {},
   "source": [
    "## DocString\n",
    "\n",
    "`DocString provides explaination of the function. It is provided within function, classes. It is written in quotation marks without print statement.`\n",
    "\n",
    "`It can be call by: `\n",
    "\n",
    "`       function_name.__doc__`"
   ]
  },
  {
   "cell_type": "code",
   "execution_count": 7,
   "metadata": {},
   "outputs": [
    {
     "name": "stdout",
     "output_type": "stream",
     "text": [
      "checking\n",
      "45\n"
     ]
    }
   ],
   "source": [
    "def add_num(num:int):\n",
    "    # \"\"\" This is a simple function to understand DocString\n",
    "    # num (int) -> num takes single integer argument and \n",
    "    # returns it\n",
    "    # \"\"\"\n",
    "    return num\n",
    "\n",
    "print(add_num.__doc__)\n",
    "print(add_num(45))"
   ]
  }
 ],
 "metadata": {
  "kernelspec": {
   "display_name": "myenv3_12",
   "language": "python",
   "name": "python3"
  },
  "language_info": {
   "codemirror_mode": {
    "name": "ipython",
    "version": 3
   },
   "file_extension": ".py",
   "mimetype": "text/x-python",
   "name": "python",
   "nbconvert_exporter": "python",
   "pygments_lexer": "ipython3",
   "version": "3.12.0"
  }
 },
 "nbformat": 4,
 "nbformat_minor": 2
}
