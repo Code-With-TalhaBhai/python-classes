{
 "cells": [
  {
   "cell_type": "code",
   "execution_count": 1,
   "metadata": {},
   "outputs": [
    {
     "name": "stdout",
     "output_type": "stream",
     "text": [
      "Constructor Initiated\n",
      "I am coding in python\n",
      "check function\n"
     ]
    }
   ],
   "source": [
    "class Basic:\n",
    "    def __init__(self)->None:\n",
    "        print('Constructor Initiated')\n",
    "\n",
    "    def coding(self,lang:str):\n",
    "        print(f\"I am coding in {lang}\")\n",
    "\n",
    "    def checking(self):\n",
    "        print(\"check function\")\n",
    "\n",
    "\n",
    "obj1 = Basic()\n",
    "obj1.coding('python')\n",
    "obj1.checking()"
   ]
  },
  {
   "cell_type": "code",
   "execution_count": 2,
   "metadata": {},
   "outputs": [
    {
     "data": {
      "text/plain": [
       "['checking', 'coding']"
      ]
     },
     "execution_count": 2,
     "metadata": {},
     "output_type": "execute_result"
    }
   ],
   "source": [
    "[x for x in dir(Basic) if \"__\" not in x]"
   ]
  }
 ],
 "metadata": {
  "kernelspec": {
   "display_name": "myenv3_12",
   "language": "python",
   "name": "python3"
  },
  "language_info": {
   "codemirror_mode": {
    "name": "ipython",
    "version": 3
   },
   "file_extension": ".py",
   "mimetype": "text/x-python",
   "name": "python",
   "nbconvert_exporter": "python",
   "pygments_lexer": "ipython3",
   "version": "3.12.0"
  }
 },
 "nbformat": 4,
 "nbformat_minor": 2
}
