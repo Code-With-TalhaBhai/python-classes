{
 "cells": [
  {
   "cell_type": "code",
   "execution_count": 1,
   "metadata": {},
   "outputs": [
    {
     "name": "stdout",
     "output_type": "stream",
     "text": [
      "Requirement already satisfied: numpy in c:\\users\\taaaayaauaaaaaaaaaaa\\miniconda3\\envs\\myenv3_12\\lib\\site-packages (1.26.1)\n"
     ]
    }
   ],
   "source": [
    "! pip install numpy"
   ]
  },
  {
   "cell_type": "code",
   "execution_count": 2,
   "metadata": {},
   "outputs": [
    {
     "name": "stdout",
     "output_type": "stream",
     "text": [
      "[1 2 3 5]\n",
      "<class 'numpy.ndarray'>\n"
     ]
    },
    {
     "data": {
      "text/plain": [
       "array([1, 2, 3, 5])"
      ]
     },
     "execution_count": 2,
     "metadata": {},
     "output_type": "execute_result"
    }
   ],
   "source": [
    "import numpy as np\n",
    "\n",
    "x = np.array([1,2,3,5])\n",
    "print(x)\n",
    "print(type(x))\n",
    "x"
   ]
  },
  {
   "cell_type": "markdown",
   "metadata": {},
   "source": [
    "### 1-dimensional Numpy Array"
   ]
  },
  {
   "cell_type": "code",
   "execution_count": 7,
   "metadata": {},
   "outputs": [
    {
     "name": "stdout",
     "output_type": "stream",
     "text": [
      "1\n",
      "[1 2 3 4 5]\n"
     ]
    }
   ],
   "source": [
    "x = np.arange(1,6)\n",
    "print(x.ndim)\n",
    "print(x)"
   ]
  },
  {
   "cell_type": "markdown",
   "metadata": {},
   "source": [
    "### 2-dimensional Numpy Array"
   ]
  },
  {
   "cell_type": "code",
   "execution_count": 10,
   "metadata": {},
   "outputs": [
    {
     "name": "stdout",
     "output_type": "stream",
     "text": [
      "2\n",
      "[[ 234  321   53]\n",
      " [2342   53 2523]]\n"
     ]
    }
   ],
   "source": [
    "x = np.array([[234,321,53],[2342,53,2523]])\n",
    "print(x.ndim)\n",
    "print(x)"
   ]
  },
  {
   "cell_type": "markdown",
   "metadata": {},
   "source": [
    "### 3-dimensional NumpyArray"
   ]
  },
  {
   "cell_type": "code",
   "execution_count": 10,
   "metadata": {},
   "outputs": [
    {
     "name": "stdout",
     "output_type": "stream",
     "text": [
      "3\n",
      "[[[ 1  2]\n",
      "  [ 4  5]\n",
      "  [ 7  8]]\n",
      "\n",
      " [[10 11]\n",
      "  [13 14]\n",
      "  [16 17]]\n",
      "\n",
      " [[19 20]\n",
      "  [22 23]\n",
      "  [25 26]]]\n"
     ]
    }
   ],
   "source": [
    "x = np.array([\n",
    "    [\n",
    "        [1,2],[4,5],[7,8]\n",
    "    ],\n",
    "    [\n",
    "        [10,11],[13,14],[16,17]\n",
    "    ],\n",
    "    [\n",
    "        [19,20],[22,23],[25,26]\n",
    "    ]\n",
    "    ])\n",
    "\n",
    "print(x.ndim)\n",
    "print(x)"
   ]
  },
  {
   "cell_type": "markdown",
   "metadata": {},
   "source": [
    "### Higher-order Dimensional Array"
   ]
  },
  {
   "cell_type": "code",
   "execution_count": 4,
   "metadata": {},
   "outputs": [
    {
     "name": "stdout",
     "output_type": "stream",
     "text": [
      "5\n",
      "[[[[[1 4 5]]]]]\n"
     ]
    }
   ],
   "source": [
    "x = np.array([1,4,5],ndmin=5)\n",
    "print(x.ndim)\n",
    "print(x)"
   ]
  },
  {
   "cell_type": "markdown",
   "metadata": {},
   "source": [
    "# Shape"
   ]
  },
  {
   "cell_type": "code",
   "execution_count": 2,
   "metadata": {},
   "outputs": [
    {
     "name": "stdout",
     "output_type": "stream",
     "text": [
      "[[ 234  321   53]\n",
      " [2342   53 2523]]\n",
      "2\n",
      "(2, 3)\n"
     ]
    }
   ],
   "source": [
    "import numpy as np\n",
    "x = np.array([[234,321,53],[2342,53,2523]])\n",
    "print(x)\n",
    "print(x.ndim) # prints dimension of numpy array\n",
    "print(x.shape) # prints shape(row,col) of numpy array"
   ]
  },
  {
   "cell_type": "code",
   "execution_count": 3,
   "metadata": {},
   "outputs": [
    {
     "name": "stdout",
     "output_type": "stream",
     "text": [
      "[[[ 1  2]\n",
      "  [ 4  5]\n",
      "  [ 7  8]]\n",
      "\n",
      " [[10 11]\n",
      "  [13 14]\n",
      "  [16 17]]\n",
      "\n",
      " [[19 20]\n",
      "  [22 23]\n",
      "  [25 26]]]\n",
      "3\n",
      "(3, 3, 2)\n"
     ]
    }
   ],
   "source": [
    "x = np.array([\n",
    "    [\n",
    "        [1,2],[4,5],[7,8]\n",
    "    ],\n",
    "    [\n",
    "        [10,11],[13,14],[16,17]\n",
    "    ],\n",
    "    [\n",
    "        [19,20],[22,23],[25,26]\n",
    "    ]\n",
    "    ])\n",
    "\n",
    "print(x)\n",
    "print(x.ndim)\n",
    "print(x.shape)"
   ]
  },
  {
   "cell_type": "code",
   "execution_count": 4,
   "metadata": {},
   "outputs": [
    {
     "name": "stdout",
     "output_type": "stream",
     "text": [
      "[[[[[[[1 2 3 5 7]]]]]]]\n",
      "7\n",
      "(1, 1, 1, 1, 1, 1, 5)\n"
     ]
    }
   ],
   "source": [
    "x = np.array([1,2,3,5,7], ndmin=7)\n",
    "print(x)\n",
    "print(x.ndim)\n",
    "print(x.shape)"
   ]
  },
  {
   "cell_type": "markdown",
   "metadata": {},
   "source": [
    "# Re-shape\n",
    "\n",
    "### Changing dimensions of numpy array"
   ]
  },
  {
   "cell_type": "code",
   "execution_count": 20,
   "metadata": {},
   "outputs": [
    {
     "name": "stdout",
     "output_type": "stream",
     "text": [
      "[[1 2]\n",
      " [3 4]\n",
      " [5 6]]\n",
      "2\n",
      "\n",
      "[[1]\n",
      " [2]\n",
      " [3]\n",
      " [4]\n",
      " [5]\n",
      " [6]]\n",
      "2\n",
      "\n",
      "[[1 2 3 4 5 6]]\n",
      "2\n"
     ]
    }
   ],
   "source": [
    "arr = np.array([1,2,3,4,5,6])\n",
    "\n",
    "reshape1 = arr.reshape(3,2)\n",
    "print(reshape1)\n",
    "print(reshape1.ndim)\n",
    "print()\n",
    "reshape2 = arr.reshape(6,1)\n",
    "print(reshape2)\n",
    "print(reshape2.ndim)\n",
    "print()\n",
    "reshape3 = arr.reshape(1,6)\n",
    "print(reshape3)\n",
    "print(reshape3.ndim)"
   ]
  },
  {
   "cell_type": "code",
   "execution_count": 22,
   "metadata": {},
   "outputs": [
    {
     "name": "stdout",
     "output_type": "stream",
     "text": [
      "[[1 2 6]\n",
      " [3 4 5]]\n",
      "2\n",
      "(2, 3)\n",
      "\n",
      "[[1 2]\n",
      " [6 3]\n",
      " [4 5]]\n",
      "2\n",
      "\n",
      "[[1 2 6 3 4 5]]\n",
      "2\n"
     ]
    }
   ],
   "source": [
    "arr = np.array([[1,2,6],[3,4,5]])\n",
    "print(arr)\n",
    "print(arr.ndim)\n",
    "print(arr.shape)\n",
    "print()\n",
    "reshape1 = arr.reshape(3,2)\n",
    "print(reshape1)\n",
    "print(reshape1.ndim)\n",
    "print()\n",
    "reshape2 = arr.reshape(1,6)\n",
    "print(reshape2)\n",
    "print(reshape2.ndim)"
   ]
  },
  {
   "cell_type": "markdown",
   "metadata": {},
   "source": [
    "#### Error-> If numpy array re-shaping requires more element than original array"
   ]
  },
  {
   "cell_type": "code",
   "execution_count": 19,
   "metadata": {},
   "outputs": [
    {
     "name": "stdout",
     "output_type": "stream",
     "text": [
      "[[1 2 6]\n",
      " [3 4 5]]\n"
     ]
    },
    {
     "ename": "ValueError",
     "evalue": "cannot reshape array of size 1 into shape (4,)",
     "output_type": "error",
     "traceback": [
      "\u001b[1;31m---------------------------------------------------------------------------\u001b[0m",
      "\u001b[1;31mValueError\u001b[0m                                Traceback (most recent call last)",
      "\u001b[1;32mc:\\Code_Apps\\python-classes\\Python-classes\\Numpy\\class16.ipynb Cell 19\u001b[0m line \u001b[0;36m4\n\u001b[0;32m      <a href='vscode-notebook-cell:/c%3A/Code_Apps/python-classes/Python-classes/Numpy/class16.ipynb#X23sZmlsZQ%3D%3D?line=0'>1</a>\u001b[0m arr \u001b[39m=\u001b[39m np\u001b[39m.\u001b[39marray([[\u001b[39m1\u001b[39m,\u001b[39m2\u001b[39m,\u001b[39m6\u001b[39m],[\u001b[39m3\u001b[39m,\u001b[39m4\u001b[39m,\u001b[39m5\u001b[39m]])\n\u001b[0;32m      <a href='vscode-notebook-cell:/c%3A/Code_Apps/python-classes/Python-classes/Numpy/class16.ipynb#X23sZmlsZQ%3D%3D?line=1'>2</a>\u001b[0m \u001b[39mprint\u001b[39m(arr)\n\u001b[1;32m----> <a href='vscode-notebook-cell:/c%3A/Code_Apps/python-classes/Python-classes/Numpy/class16.ipynb#X23sZmlsZQ%3D%3D?line=3'>4</a>\u001b[0m reshape \u001b[39m=\u001b[39m np\u001b[39m.\u001b[39;49mreshape(\u001b[39m2\u001b[39;49m,\u001b[39m4\u001b[39;49m)\n\u001b[0;32m      <a href='vscode-notebook-cell:/c%3A/Code_Apps/python-classes/Python-classes/Numpy/class16.ipynb#X23sZmlsZQ%3D%3D?line=4'>5</a>\u001b[0m \u001b[39mprint\u001b[39m(reshape)\n",
      "File \u001b[1;32mc:\\Users\\taaaayaauaaaaaaaaaaa\\miniconda3\\envs\\myenv3_12\\Lib\\site-packages\\numpy\\core\\fromnumeric.py:285\u001b[0m, in \u001b[0;36mreshape\u001b[1;34m(a, newshape, order)\u001b[0m\n\u001b[0;32m    200\u001b[0m \u001b[39m@array_function_dispatch\u001b[39m(_reshape_dispatcher)\n\u001b[0;32m    201\u001b[0m \u001b[39mdef\u001b[39;00m \u001b[39mreshape\u001b[39m(a, newshape, order\u001b[39m=\u001b[39m\u001b[39m'\u001b[39m\u001b[39mC\u001b[39m\u001b[39m'\u001b[39m):\n\u001b[0;32m    202\u001b[0m \u001b[39m    \u001b[39m\u001b[39m\"\"\"\u001b[39;00m\n\u001b[0;32m    203\u001b[0m \u001b[39m    Gives a new shape to an array without changing its data.\u001b[39;00m\n\u001b[0;32m    204\u001b[0m \n\u001b[1;32m   (...)\u001b[0m\n\u001b[0;32m    283\u001b[0m \u001b[39m           [5, 6]])\u001b[39;00m\n\u001b[0;32m    284\u001b[0m \u001b[39m    \"\"\"\u001b[39;00m\n\u001b[1;32m--> 285\u001b[0m     \u001b[39mreturn\u001b[39;00m _wrapfunc(a, \u001b[39m'\u001b[39;49m\u001b[39mreshape\u001b[39;49m\u001b[39m'\u001b[39;49m, newshape, order\u001b[39m=\u001b[39;49morder)\n",
      "File \u001b[1;32mc:\\Users\\taaaayaauaaaaaaaaaaa\\miniconda3\\envs\\myenv3_12\\Lib\\site-packages\\numpy\\core\\fromnumeric.py:56\u001b[0m, in \u001b[0;36m_wrapfunc\u001b[1;34m(obj, method, *args, **kwds)\u001b[0m\n\u001b[0;32m     54\u001b[0m bound \u001b[39m=\u001b[39m \u001b[39mgetattr\u001b[39m(obj, method, \u001b[39mNone\u001b[39;00m)\n\u001b[0;32m     55\u001b[0m \u001b[39mif\u001b[39;00m bound \u001b[39mis\u001b[39;00m \u001b[39mNone\u001b[39;00m:\n\u001b[1;32m---> 56\u001b[0m     \u001b[39mreturn\u001b[39;00m _wrapit(obj, method, \u001b[39m*\u001b[39;49margs, \u001b[39m*\u001b[39;49m\u001b[39m*\u001b[39;49mkwds)\n\u001b[0;32m     58\u001b[0m \u001b[39mtry\u001b[39;00m:\n\u001b[0;32m     59\u001b[0m     \u001b[39mreturn\u001b[39;00m bound(\u001b[39m*\u001b[39margs, \u001b[39m*\u001b[39m\u001b[39m*\u001b[39mkwds)\n",
      "File \u001b[1;32mc:\\Users\\taaaayaauaaaaaaaaaaa\\miniconda3\\envs\\myenv3_12\\Lib\\site-packages\\numpy\\core\\fromnumeric.py:45\u001b[0m, in \u001b[0;36m_wrapit\u001b[1;34m(obj, method, *args, **kwds)\u001b[0m\n\u001b[0;32m     43\u001b[0m \u001b[39mexcept\u001b[39;00m \u001b[39mAttributeError\u001b[39;00m:\n\u001b[0;32m     44\u001b[0m     wrap \u001b[39m=\u001b[39m \u001b[39mNone\u001b[39;00m\n\u001b[1;32m---> 45\u001b[0m result \u001b[39m=\u001b[39m \u001b[39mgetattr\u001b[39;49m(asarray(obj), method)(\u001b[39m*\u001b[39;49margs, \u001b[39m*\u001b[39;49m\u001b[39m*\u001b[39;49mkwds)\n\u001b[0;32m     46\u001b[0m \u001b[39mif\u001b[39;00m wrap:\n\u001b[0;32m     47\u001b[0m     \u001b[39mif\u001b[39;00m \u001b[39mnot\u001b[39;00m \u001b[39misinstance\u001b[39m(result, mu\u001b[39m.\u001b[39mndarray):\n",
      "\u001b[1;31mValueError\u001b[0m: cannot reshape array of size 1 into shape (4,)"
     ]
    }
   ],
   "source": [
    "arr = np.array([[1,2,6],[3,4,5]])\n",
    "print(arr)\n",
    "\n",
    "reshape = np.reshape(2,4)\n",
    "print(reshape)"
   ]
  },
  {
   "cell_type": "code",
   "execution_count": 29,
   "metadata": {},
   "outputs": [
    {
     "name": "stdout",
     "output_type": "stream",
     "text": [
      "[[[1]\n",
      "  [2]]\n",
      "\n",
      " [[6]\n",
      "  [3]]\n",
      "\n",
      " [[4]\n",
      "  [5]]]\n",
      "3\n"
     ]
    }
   ],
   "source": [
    "arr = np.array([1,2,6,3,4,5])\n",
    "reshape = arr.reshape(3,2,1)\n",
    "print(reshape)\n",
    "print(reshape.ndim)"
   ]
  },
  {
   "cell_type": "markdown",
   "metadata": {},
   "source": [
    "### Converting to one dimension array from any"
   ]
  },
  {
   "cell_type": "code",
   "execution_count": 36,
   "metadata": {},
   "outputs": [
    {
     "name": "stdout",
     "output_type": "stream",
     "text": [
      "[[[1 2]\n",
      "  [6 3]\n",
      "  [4 5]]\n",
      "\n",
      " [[1 2]\n",
      "  [3 4]\n",
      "  [8 2]]]\n",
      "\n",
      "3\n",
      "\n",
      "[1 2 6 3 4 5 1 2 3 4 8 2]\n",
      "1\n"
     ]
    }
   ],
   "source": [
    "arr = np.array([[[1,2],[6,3],[4,5]],[[1,2],[3,4],[8,2]]])\n",
    "\n",
    "print(arr)\n",
    "print()\n",
    "print(arr.ndim)\n",
    "print()\n",
    "\n",
    "reshape = arr.reshape(-1) # convert directly to one dimension array\n",
    "print(reshape)\n",
    "print(reshape.ndim)"
   ]
  }
 ],
 "metadata": {
  "kernelspec": {
   "display_name": "myenv3_12",
   "language": "python",
   "name": "python3"
  },
  "language_info": {
   "codemirror_mode": {
    "name": "ipython",
    "version": 3
   },
   "file_extension": ".py",
   "mimetype": "text/x-python",
   "name": "python",
   "nbconvert_exporter": "python",
   "pygments_lexer": "ipython3",
   "version": "3.12.0"
  }
 },
 "nbformat": 4,
 "nbformat_minor": 2
}
