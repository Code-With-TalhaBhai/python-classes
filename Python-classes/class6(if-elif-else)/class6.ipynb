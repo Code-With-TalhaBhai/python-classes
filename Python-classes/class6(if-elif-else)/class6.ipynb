{
 "cells": [
  {
   "cell_type": "code",
   "execution_count": 1,
   "metadata": {},
   "outputs": [
    {
     "name": "stdout",
     "output_type": "stream",
     "text": [
      "Pakistan zindaabad\n"
     ]
    }
   ],
   "source": [
    "if True:\n",
    "    print(\"Pakistan zindaabad\")\n",
    "else:\n",
    "    print(\"zindaaaaabad\")"
   ]
  },
  {
   "cell_type": "markdown",
   "metadata": {},
   "source": [
    "# Comprehension"
   ]
  },
  {
   "cell_type": "code",
   "execution_count": 4,
   "metadata": {},
   "outputs": [
    {
     "name": "stdout",
     "output_type": "stream",
     "text": [
      "Hello world\n",
      "Pakistan zindabad\n",
      "double\n"
     ]
    }
   ],
   "source": [
    "print(\"Pakistan zindaabad\") if False else print(\"Hello world\")\n",
    "print(\"Pakistan zindabad\"); print(\"double\") if True else print(\"Hello world\")\n",
    "\n",
    "# Syntax\n",
    "# True block statements `if` condition `else` else block statements\n"
   ]
  },
  {
   "cell_type": "markdown",
   "metadata": {},
   "source": [
    "# Operators used with if-elif-else statements"
   ]
  },
  {
   "cell_type": "markdown",
   "metadata": {},
   "source": [
    "### Comparison Operators\n",
    "\n",
    "- ==\n",
    "- <=\n",
    "- >=\n",
    "- !=\n",
    "\n",
    "### Logical Operators\n",
    "\n",
    "- and\n",
    "- or\n",
    "- not"
   ]
  },
  {
   "cell_type": "code",
   "execution_count": 4,
   "metadata": {},
   "outputs": [
    {
     "name": "stdout",
     "output_type": "stream",
     "text": [
      "False\n",
      "False\n"
     ]
    }
   ],
   "source": [
    "bl: bool = not(True)\n",
    "b2: bool = not(7)\n",
    "print(bl)\n",
    "print(b2)"
   ]
  },
  {
   "cell_type": "markdown",
   "metadata": {},
   "source": [
    "# Grading System"
   ]
  },
  {
   "cell_type": "code",
   "execution_count": 1,
   "metadata": {},
   "outputs": [
    {
     "name": "stdout",
     "output_type": "stream",
     "text": [
      "C Grade\n"
     ]
    }
   ],
   "source": [
    "from typing import Union\n",
    "# per : int | float = 88.89\n",
    "per : Union[str,float] = 66.89\n",
    "grade : Union[str,None] = None\n",
    "\n",
    "if per > 90:\n",
    "    print(\"A+ Grade\")\n",
    "elif per > 80:\n",
    "    print(\"A Grade\")\n",
    "elif per > 70:\n",
    "    print(\"B Grade\")\n",
    "elif per > 60:\n",
    "    print(\"C Grade\")\n",
    "elif per > 50:\n",
    "    print(\"D Grade\")\n",
    "elif per > 40:\n",
    "    print(\"E Grade\")\n",
    "elif per > 33:\n",
    "    print(\"F Grade\")\n",
    "else:\n",
    "    print(\"Wrong input\")\n"
   ]
  },
  {
   "cell_type": "code",
   "execution_count": 9,
   "metadata": {},
   "outputs": [
    {
     "name": "stdout",
     "output_type": "stream",
     "text": [
      "audi\n",
      "BMW\n",
      "subaru\n",
      "toyota\n"
     ]
    }
   ],
   "source": [
    "cars : list[str] = ['audi', 'bmw', 'subaru', 'toyota']\n",
    "# Only list comprehension\n",
    "[c.title() for c in cars if c == 'bmw']\n",
    "# if-else and list both comprehension\n",
    "[c.upper() if c == 'bmw' else c for c in cars]\n",
    "\n",
    "# Without list-comprehension\n",
    "for c in cars:\n",
    "    if c == 'bmw':\n",
    "        print(c.upper())\n",
    "    else:\n",
    "        print(c)"
   ]
  }
 ],
 "metadata": {
  "kernelspec": {
   "display_name": "myenv3_12",
   "language": "python",
   "name": "python3"
  },
  "language_info": {
   "codemirror_mode": {
    "name": "ipython",
    "version": 3
   },
   "file_extension": ".py",
   "mimetype": "text/x-python",
   "name": "python",
   "nbconvert_exporter": "python",
   "pygments_lexer": "ipython3",
   "version": "3.12.0"
  }
 },
 "nbformat": 4,
 "nbformat_minor": 2
}
