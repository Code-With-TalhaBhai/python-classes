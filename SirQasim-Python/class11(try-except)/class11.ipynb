{
 "cells": [
  {
   "cell_type": "markdown",
   "metadata": {},
   "source": [
    "## Mutable vs Immutable \n",
    "\n",
    "Everything in python is an object\n",
    "\n",
    "\n",
    "#### Mutable Objects(Pass-by-Reference)\n",
    "`Mutable objects are those whose state or content can be changed after they are created.`\n",
    "##### Example\n",
    "* Dictionary\n",
    "* Sets\n",
    "* Byte Arrays\n",
    "\n",
    "#### Immutable Objects(Pass-by-Value)\n",
    "`Immutable objects, on the other hand, are those whose state cannot be changed after they are created. Once an immutable object is created, any attempt to modify its content results in the creation of a new object with the updated value.`\n",
    "##### Example\n",
    "* Integer\n",
    "* Float\n",
    "* Tuple\n",
    "* String\n",
    "* Frozen Sets\n",
    "* None"
   ]
  },
  {
   "cell_type": "code",
   "execution_count": 3,
   "metadata": {},
   "outputs": [
    {
     "name": "stdout",
     "output_type": "stream",
     "text": [
      "Mutable Object\n",
      "list_b: [1, 2, 3, 4]\n",
      "Immutable Object\n",
      "The value of y is: 5\n"
     ]
    }
   ],
   "source": [
    "# Mutable Objects\n",
    "\n",
    "list_a = [1, 2, 3]\n",
    "list_b = list_a\n",
    "\n",
    "list_a.append(4)\n",
    "print(\"Mutable Object\")\n",
    "print(\"list_b:\", list_b) # Output: list_b: [1, 2, 3, 4]\n",
    "\n",
    "# Immutable Object\n",
    "x = 5\n",
    "y = 5\n",
    "x += 1\n",
    "print(\"Immutable Object\")\n",
    "print(f\"The value of y is: {y}\")"
   ]
  },
  {
   "cell_type": "code",
   "execution_count": 15,
   "metadata": {},
   "outputs": [
    {
     "name": "stdout",
     "output_type": "stream",
     "text": [
      "The id of array is: 2638374634496\n",
      "[1, 2, 3, 4]\n",
      "The id of array is : 2638374634496\n",
      "[1, 2, 3, 4, 5]\n",
      "\n",
      "The id of x is 140703673254744\n",
      "78\n",
      "The id of x is 140703673254776\n",
      "79\n",
      "The id of x is 140703673255064\n",
      "88\n",
      "The id of 'y' is 140703673255064\n",
      "88\n"
     ]
    }
   ],
   "source": [
    "# Mutable Object\n",
    "arr = [1,2,3,4]\n",
    "print(f\"The id of array is: {id(arr)}\")\n",
    "print(arr)\n",
    "arr.append(5)\n",
    "print(f\"The id of array is : {id(arr)}\")\n",
    "print(arr)\n",
    "\n",
    "print() \n",
    "\n",
    "# Immutable Objects\n",
    "x = 78\n",
    "print(f\"The id of x is {id(x)}\")\n",
    "print(x)\n",
    "\n",
    "x += 1\n",
    "print(f\"The id of x is {id(x)}\")\n",
    "print(x)\n",
    "\n",
    "x = 88\n",
    "print(f\"The id of x is {id(x)}\")\n",
    "print(x)\n",
    "\n",
    "y = 88\n",
    "print(f\"The id of 'y' is {id(y)}\")\n",
    "print(y)"
   ]
  },
  {
   "cell_type": "code",
   "execution_count": 16,
   "metadata": {},
   "outputs": [
    {
     "name": "stdout",
     "output_type": "stream",
     "text": [
      "First Assignment of variable a value is 140703673252408\n",
      "\tValue of start of function 5 address 140703673252408\n",
      "\tnum1 value end of function 6 address 140703673252440\n",
      "\tEnd of program\n",
      "End of program variable value is 5 address of a 140703673252408\n"
     ]
    }
   ],
   "source": [
    "a : int = 5\n",
    "\n",
    "print(f\"First Assignment of variable a value is {id(a)}\")\n",
    "\n",
    "def abc(num1:int)->None:\n",
    "    print(f\"\\tValue of start of function {num1} address {id(num1)}\")\n",
    "    num1 = 6# copy now it will change update object\n",
    "\n",
    "    print(f\"\\tnum1 value end of function {num1} address {id(num1)}\") # change here\n",
    "    print(\"\\tEnd of program\")\n",
    "\n",
    "abc(a) # pass by value imutable\n",
    "\n",
    "print(f\"End of program variable value is {a} address of a {id(a)}\")"
   ]
  },
  {
   "cell_type": "code",
   "execution_count": 18,
   "metadata": {},
   "outputs": [
    {
     "name": "stdout",
     "output_type": "stream",
     "text": [
      "num1 value is [1, 2, 3, 4, 200]\n",
      "[1, 2, 3, 4, 200]\n"
     ]
    }
   ],
   "source": [
    "a : list[int] = [1,2,3,4]\n",
    "\n",
    "def abc(num1:list[int])->None:\n",
    "    num1.append(200)# added on element\n",
    "    print(f\"num1 value is {num1}\")\n",
    "\n",
    "abc(a)# pass by refference (mutable data type)\n",
    "\n",
    "print(a)"
   ]
  },
  {
   "cell_type": "code",
   "execution_count": 20,
   "metadata": {},
   "outputs": [
    {
     "name": "stdout",
     "output_type": "stream",
     "text": [
      "num1 value is [7, 200]\n",
      "[1, 2, 3, 4]\n"
     ]
    }
   ],
   "source": [
    "a : list[int] = [1,2,3,4]\n",
    "\n",
    "def abc(num:list[int])->None:\n",
    "    num:list[int] = [7] # reassign list variable -> create new object\n",
    "    num.append(200)# added on element\n",
    "    print(f\"num1 value is {num}\")\n",
    "\n",
    "abc(a)# pass by refference (mutable data type)\n",
    "\n",
    "print(a)"
   ]
  },
  {
   "cell_type": "code",
   "execution_count": 19,
   "metadata": {},
   "outputs": [
    {
     "name": "stdout",
     "output_type": "stream",
     "text": [
      "2638374749440\n",
      "2638374728128\n"
     ]
    }
   ],
   "source": [
    "a : list[int] = [1,2,3,4] # mutable\n",
    "b : list[int] = [1,2,3,4] # mutable\n",
    "\n",
    "print(id(a))\n",
    "print(id(b))"
   ]
  }
 ],
 "metadata": {
  "kernelspec": {
   "display_name": "myenv3_12",
   "language": "python",
   "name": "python3"
  },
  "language_info": {
   "codemirror_mode": {
    "name": "ipython",
    "version": 3
   },
   "file_extension": ".py",
   "mimetype": "text/x-python",
   "name": "python",
   "nbconvert_exporter": "python",
   "pygments_lexer": "ipython3",
   "version": "3.12.0"
  }
 },
 "nbformat": 4,
 "nbformat_minor": 2
}
