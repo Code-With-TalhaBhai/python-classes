{
 "cells": [
  {
   "cell_type": "markdown",
   "metadata": {},
   "source": [
    "## Encapsulation"
   ]
  },
  {
   "cell_type": "code",
   "execution_count": 22,
   "metadata": {},
   "outputs": [
    {
     "name": "stdout",
     "output_type": "stream",
     "text": [
      "The Bank Account Holder after initializing object is: Talha(Public)\n",
      "My Account Number from child class is: 234-53-53223(Protected)\n",
      "My password inside Main class is: 2353(Private)\n"
     ]
    }
   ],
   "source": [
    "class Bank:\n",
    "    def __init__(self):\n",
    "        self.accountHolder = \"Talha\" # Public \n",
    "        self._accNumber = '234-53-53223' # Protected -> With single \"_\"(underscore) after \".\"\n",
    "        self.__password = 2353 # Private -> With double \"__\" underscoreafter \".\"\n",
    "\n",
    "    def showPassword(self):\n",
    "        print(f\"My password inside Main class is: {self.__password}(Private)\")\n",
    "\n",
    "class Branch(Bank):\n",
    "    def __init__(self):\n",
    "        super().__init__()\n",
    "        print(f'My Account Number from child class is: {self._accNumber}(Protected)')\n",
    "\n",
    "\n",
    "bank = Bank()\n",
    "print(f\"The Bank Account Holder after initializing object is: {bank.accountHolder}(Public)\")\n",
    "\n",
    "branch = Branch()\n",
    "bank.showPassword()"
   ]
  },
  {
   "cell_type": "markdown",
   "metadata": {},
   "source": [
    "## Abstract Class\n",
    "\n",
    "An abstract class can be considered a `blueprint` for other classes. It allows you to create a set of methods that must be created within any child classes built from the abstract class.\n",
    "\n",
    "A class that contains one or more abstract methods is called an abstract class. An abstract method is a method that has a declaration but does not have an `implementation.`\n",
    "\n",
    "By default, Python does not provide `abstract classes`. Python comes with a module that provides the base for defining Abstract Base classes(ABC) and that module name is ABC."
   ]
  },
  {
   "cell_type": "code",
   "execution_count": 4,
   "metadata": {},
   "outputs": [
    {
     "name": "stdout",
     "output_type": "stream",
     "text": [
      "Mammals\n",
      "Cat is eating meat\n",
      "Animal is sleeping\n",
      "Animal is walking\n"
     ]
    }
   ],
   "source": [
    "# abc -> Abstract Base classes\n",
    "from abc import ABC,abstractmethod\n",
    "\n",
    "class Animal(ABC):\n",
    "    @abstractmethod\n",
    "    def __init__(self):\n",
    "        super().__init__()\n",
    "        self.specie_type = \"Mammals\"\n",
    "\n",
    "    @abstractmethod\n",
    "    def eating(self,food):\n",
    "        ...\n",
    "\n",
    "    def walking(self):\n",
    "        print(\"Animal is walking\")\n",
    "\n",
    "class Cat(Animal):\n",
    "    def __init__(self):\n",
    "        super().__init__()\n",
    "\n",
    "    def eating(self,food):\n",
    "        print(f\"Cat is eating {food}\")\n",
    "\n",
    "    def sleeping(self):\n",
    "        print('Animal is sleeping')\n",
    "\n",
    "\n",
    "cat = Cat()\n",
    "print(cat.specie_type)\n",
    "cat.eating('meat')\n",
    "cat.sleeping()\n",
    "cat.walking()"
   ]
  },
  {
   "cell_type": "markdown",
   "metadata": {},
   "source": [
    "## Duck Typing\n",
    "https://ioflood.com/blog/duck-typing/\n",
    "\n",
    "`Duck typing in Python is a programming concept where the type or the class of an object is less important than the methods it defines. When you use duck typing, you do not check types at all. Instead, you check for the presence of a given method or attribute.`"
   ]
  },
  {
   "cell_type": "code",
   "execution_count": 6,
   "metadata": {},
   "outputs": [
    {
     "name": "stdout",
     "output_type": "stream",
     "text": [
      "I am quacking like a pigeon\n",
      "I am quacking like a duck\n"
     ]
    }
   ],
   "source": [
    "class Duck:\n",
    "    def quack(self):\n",
    "        print('I am quacking like a duck')\n",
    "\n",
    "class Pigeon:\n",
    "    def quack(self):\n",
    "        print('I am quacking like a pigeon')\n",
    "\n",
    "\n",
    "\n",
    "def run_the_quack(demo_class):\n",
    "    demo_class.quack()\n",
    "\n",
    "\n",
    "duck = Duck()\n",
    "pigeon = Pigeon()\n",
    "\n",
    "run_the_quack(pigeon)\n",
    "run_the_quack(duck)"
   ]
  },
  {
   "cell_type": "code",
   "execution_count": 7,
   "metadata": {},
   "outputs": [
    {
     "name": "stdout",
     "output_type": "stream",
     "text": [
      "Constructor working\n"
     ]
    },
    {
     "data": {
      "text/plain": [
       "['__class__',\n",
       " '__delattr__',\n",
       " '__dict__',\n",
       " '__dir__',\n",
       " '__doc__',\n",
       " '__eq__',\n",
       " '__format__',\n",
       " '__ge__',\n",
       " '__getattribute__',\n",
       " '__getstate__',\n",
       " '__gt__',\n",
       " '__hash__',\n",
       " '__init__',\n",
       " '__init_subclass__',\n",
       " '__le__',\n",
       " '__lt__',\n",
       " '__module__',\n",
       " '__ne__',\n",
       " '__new__',\n",
       " '__reduce__',\n",
       " '__reduce_ex__',\n",
       " '__repr__',\n",
       " '__setattr__',\n",
       " '__sizeof__',\n",
       " '__str__',\n",
       " '__subclasshook__',\n",
       " '__weakref__']"
      ]
     },
     "execution_count": 7,
     "metadata": {},
     "output_type": "execute_result"
    }
   ],
   "source": [
    "\n",
    "class MyClass:\n",
    "\n",
    "    def __init__(self) -> None:\n",
    "        print('Constructor working')\n",
    "\n",
    "    # def __call__(self):\n",
    "    #     print('call function working')\n",
    "\n",
    "    \n",
    "myclass = MyClass()\n",
    "dir(myclass)"
   ]
  }
 ],
 "metadata": {
  "kernelspec": {
   "display_name": "myenv3_12",
   "language": "python",
   "name": "python3"
  },
  "language_info": {
   "codemirror_mode": {
    "name": "ipython",
    "version": 3
   },
   "file_extension": ".py",
   "mimetype": "text/x-python",
   "name": "python",
   "nbconvert_exporter": "python",
   "pygments_lexer": "ipython3",
   "version": "3.12.0"
  }
 },
 "nbformat": 4,
 "nbformat_minor": 2
}
